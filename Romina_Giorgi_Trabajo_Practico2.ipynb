{
  "cells": [
    {
      "cell_type": "markdown",
      "metadata": {
        "id": "view-in-github",
        "colab_type": "text"
      },
      "source": [
        "<a href=\"https://colab.research.google.com/github/romigiorgi/python-ciencia-datos/blob/main/Romina_Giorgi_Trabajo_Practico2.ipynb\" target=\"_parent\"><img src=\"https://colab.research.google.com/assets/colab-badge.svg\" alt=\"Open In Colab\"/></a>"
      ]
    },
    {
      "cell_type": "markdown",
      "metadata": {
        "id": "1qK5hGNp-o6o"
      },
      "source": [
        "# Introducción a NumPy\n",
        "\n",
        "\n",
        "\n",
        "\n",
        "Este Práctico proporciona una introducción básica a NumPy, destacando algunas de sus características clave y mostrando ejemplos de su uso. A continuación tendrán un resúmen de algunos comando y su implementación. Esto servirá de guia para desarrollar las actividades propuestas a continuación."
      ],
      "id": "1qK5hGNp-o6o"
    },
    {
      "cell_type": "markdown",
      "metadata": {
        "id": "EhfjWsse-o6r"
      },
      "source": [
        "## Comparación entre uso de vectores de Python y NumPy\n",
        "A continuación se presentan varios aspectos para poder comparar la implementación de vectores a través del tipo de datos LISTA , comparado con la implementación de vectores con NumPy:"
      ],
      "id": "EhfjWsse-o6r"
    },
    {
      "cell_type": "markdown",
      "metadata": {
        "id": "c294f2JK-o6s"
      },
      "source": [
        "#### 1- Creación de vectores\n",
        "\n",
        "En esta celda, se importa la biblioteca NumPy y se **CREA UN VECTOR** utilizando Python puro y NumPy. Luego, se imprime cada uno de los vectores."
      ],
      "id": "c294f2JK-o6s"
    },
    {
      "cell_type": "code",
      "execution_count": 2,
      "metadata": {
        "id": "_HV2dLLF-o6s",
        "colab": {
          "base_uri": "https://localhost:8080/"
        },
        "outputId": "00c42541-b80f-4dd8-f141-9b62418c76e0"
      },
      "outputs": [
        {
          "output_type": "stream",
          "name": "stdout",
          "text": [
            "Vector en Python puro: [1, 2, 3, 4, 5]\n",
            "Vector en NumPy: [1.  2.  3.5 4.  5. ]\n"
          ]
        }
      ],
      "source": [
        "import numpy as np\n",
        "vector_py = [1, 2, 3, 4, 5]\n",
        "vector_np = np.array([1, 2, 3.5, 4, 5])\n",
        "print(\"Vector en Python puro:\", vector_py)\n",
        "print(\"Vector en NumPy:\", vector_np)"
      ],
      "id": "_HV2dLLF-o6s"
    },
    {
      "cell_type": "markdown",
      "metadata": {
        "id": "dMFB7By3-o6t"
      },
      "source": [
        "#### 2- Operaciones matemáticas\n",
        "En esta celda, se realizan operaciones matemáticas en un vector utilizando Python puro y NumPy. Luego, se imprime el resultado de cada operación."
      ],
      "id": "dMFB7By3-o6t"
    },
    {
      "cell_type": "code",
      "execution_count": 5,
      "metadata": {
        "colab": {
          "base_uri": "https://localhost:8080/"
        },
        "id": "fu-4G2Ut-o6t",
        "outputId": "57a6d5cd-9190-4b5c-e2e8-a5e1232c4760"
      },
      "outputs": [
        {
          "output_type": "stream",
          "name": "stdout",
          "text": [
            "Suma en Python puro: [3, 4, 5, 6, 7]\n",
            "Suma en NumPy: [ 2  4  6  8 10]\n"
          ]
        },
        {
          "output_type": "execute_result",
          "data": {
            "text/plain": [
              "[1, 2, 3, 4, 5, 1, 2, 3, 4, 5]"
            ]
          },
          "metadata": {},
          "execution_count": 5
        }
      ],
      "source": [
        "vector_py = [1, 2, 3, 4, 5]\n",
        "vector_np = np.array([1, 2, 3, 4, 5])\n",
        "suma_py = [x + 2 for x in vector_py]\n",
        "suma_np = vector_np *2\n",
        "print(\"Suma en Python puro:\", suma_py)\n",
        "print(\"Suma en NumPy:\", suma_np)\n",
        "vector_py*2"
      ],
      "id": "fu-4G2Ut-o6t"
    },
    {
      "cell_type": "markdown",
      "metadata": {
        "id": "zNYiFFjG-o6u"
      },
      "source": [
        "#### 3- Indexado y segmentación\n",
        "En esta celda, se realiza el indexado y segmentación en un vector utilizando Python puro y NumPy. Luego, se imprime el resultado de cada operación."
      ],
      "id": "zNYiFFjG-o6u"
    },
    {
      "cell_type": "code",
      "execution_count": 6,
      "metadata": {
        "colab": {
          "base_uri": "https://localhost:8080/"
        },
        "id": "c-PIchEg-o6u",
        "outputId": "3cdb91b7-3708-431f-8a50-af1e218b0248"
      },
      "outputs": [
        {
          "output_type": "stream",
          "name": "stdout",
          "text": [
            "Segmento en Python puro: [2, 3, 4]\n",
            "Segmento en NumPy: [2 3 4]\n"
          ]
        }
      ],
      "source": [
        "vector_py = [1, 2, 3, 4, 5]\n",
        "vector_np = np.array([1, 2, 3, 4, 5])\n",
        "segmento_py = vector_py[1:4]\n",
        "segmento_np = vector_np[1:4]\n",
        "print(\"Segmento en Python puro:\", segmento_py)\n",
        "print(\"Segmento en NumPy:\", segmento_np)"
      ],
      "id": "c-PIchEg-o6u"
    },
    {
      "cell_type": "markdown",
      "metadata": {
        "id": "v5GzRhOK-o6v"
      },
      "source": [
        "## Operaciones entre vectores y funciones sobre vectores\n",
        "A continuación se presentan algunos ejemplos de operaciones básicas entre vectores utilizando NumPy:"
      ],
      "id": "v5GzRhOK-o6v"
    },
    {
      "cell_type": "markdown",
      "metadata": {
        "id": "KE93Crg_-o6v"
      },
      "source": [
        "#### Suma de vectores\n",
        "En esta celda, se crea un vector 'vector_a' y un vector 'vector_b', y se realiza la suma de ambos vectores utilizando NumPy. Luego, se imprime el resultado."
      ],
      "id": "KE93Crg_-o6v"
    },
    {
      "cell_type": "code",
      "execution_count": 7,
      "metadata": {
        "id": "rAzW3AvC-o6v",
        "colab": {
          "base_uri": "https://localhost:8080/"
        },
        "outputId": "4d41a76c-7355-4887-f73e-cfe67f649894"
      },
      "outputs": [
        {
          "output_type": "stream",
          "name": "stdout",
          "text": [
            "Suma de vectores: [5 7 9]\n"
          ]
        }
      ],
      "source": [
        "vector_a = np.array([1, 2, 3])\n",
        "vector_b = np.array([4, 5, 6])\n",
        "suma_vector = vector_a + vector_b\n",
        "print(\"Suma de vectores:\", suma_vector)"
      ],
      "id": "rAzW3AvC-o6v"
    },
    {
      "cell_type": "markdown",
      "source": [
        "# ***EJERCICIOS PARTE 1***\n",
        "\n",
        "***EJERCICIO 1:***\n",
        "\n",
        "Dada la siguiente tabla (matriz) de datos, donde cada fila representa la cantidad que se vendio en referencia a un solo producto durante toda la semana; mientras que cada columna representa la venta total en un dia de la semana.Obtener la siguiente información detallada:\n",
        "\n",
        "\n",
        "*   Importe total de la venta por cada dia de la semana\n",
        "*   Importe total de la venta por cada producto en la semana\n",
        "*   Importe total de la venta en toda la semana\n",
        "\n"
      ],
      "metadata": {
        "id": "m8wTYxHe6TwA"
      },
      "id": "m8wTYxHe6TwA"
    },
    {
      "cell_type": "code",
      "execution_count": 17,
      "metadata": {
        "colab": {
          "base_uri": "https://localhost:8080/"
        },
        "id": "djSElJbA4fVb",
        "outputId": "3a6eeee4-bd92-4ba9-b69a-7d4132c580b4"
      },
      "outputs": [
        {
          "output_type": "stream",
          "name": "stdout",
          "text": [
            "Matriz de ventas diarias: [[20 15 25 30 18 22 24]\n",
            " [12 20 14  8 15 18 16]\n",
            " [35 28 32 30 26 24 30]\n",
            " [40 38 45 42 39 41 37]]\n",
            "15\n",
            "20\n",
            "28\n",
            "38\n",
            "la suma total del lunes es: 101\n",
            "Total de ventas por día: [107 101 116 110  98 105 107]\n",
            "Total de la venta por cada producto en la semana de Producto A: 154\n",
            "Total de la venta por cada producto en la semana de Producto B: 103\n",
            "Total de la venta por cada producto en la semana de Producto C: 205\n",
            "Total de la venta por cada producto en la semana de Producto D: 282\n",
            "Venta total por semana: 744\n"
          ]
        }
      ],
      "source": [
        "import numpy as np\n",
        "\n",
        "\n",
        "# Datos de ventas diarias de 4 productos durante una semana\n",
        "\n",
        "ventas_diarias = np.array(\n",
        "    #Lun,Mar,Mie,Jue,Vie,Sab,Dom\n",
        "    [[20, 15, 25, 30, 18, 22, 24],  #Producto A\n",
        "    [12, 20, 14, 8, 15, 18, 16],    #Producto B\n",
        "    [35, 28, 32, 30, 26, 24, 30],   #Producto C\n",
        "    [40, 38, 45, 42, 39, 41, 37]    #Producto D\n",
        "    ]\n",
        ")\n",
        "\n",
        "print(\"Matriz de ventas diarias:\",ventas_diarias)\n",
        "\n",
        "#==== FORMAS DE RECORRER UNA MATRIZ FIJADA LA COLUMNA J=1\n",
        "#    Calcula la suma total del dia lunes\n",
        "suma=0\n",
        "for i in range(4):\n",
        "  print(ventas_diarias[i,1])\n",
        "  suma=suma+ventas_diarias[i,1]\n",
        "print('la suma total del lunes es:', suma)\n",
        "\n",
        "#===== IMPLEMENTACIÓN DE UN MÉTODO DE NUMPY\n",
        "# Sumar las ventas por día (sumar las columnas)\n",
        "ventas_por_dia = np.sum(ventas_diarias, axis=0)\n",
        "print(\"Total de ventas por día:\",ventas_por_dia)\n",
        "\n",
        "#Romina Giorgi: venta por cada producto en la semana\n",
        "venta_producto_A = np.sum(ventas_diarias[0])\n",
        "print(\"Total de la venta por cada producto en la semana de Producto A:\", venta_producto_A)\n",
        "\n",
        "venta_producto_B = np.sum(ventas_diarias[1])\n",
        "print(\"Total de la venta por cada producto en la semana de Producto B:\", venta_producto_B)\n",
        "\n",
        "venta_producto_C = np.sum(ventas_diarias[2])\n",
        "print(\"Total de la venta por cada producto en la semana de Producto C:\", venta_producto_C)\n",
        "\n",
        "venta_producto_D = np.sum(ventas_diarias[3])\n",
        "print(\"Total de la venta por cada producto en la semana de Producto D:\", venta_producto_D)\n",
        "\n",
        "#R.G.:total de la venta en toda la semana\n",
        "venta_total_semana = np.sum(ventas_por_dia)\n",
        "print(\"Venta total por semana:\",venta_total_semana)"
      ],
      "id": "djSElJbA4fVb"
    },
    {
      "cell_type": "markdown",
      "source": [
        "**EJERCICIO 2:**\n",
        "\n",
        "Crear un programa donde se le pida al usuario que ingrese la cantidad de elementos de una lista de números reales positivos. Luego Convertir esa lista en un vector de Numpy.\n",
        "\n"
      ],
      "metadata": {
        "id": "CqUA_dCI6FCc"
      },
      "id": "CqUA_dCI6FCc"
    },
    {
      "cell_type": "code",
      "source": [
        "def ingresar_lista_numeros(cantidad):\n",
        "    lista = []\n",
        "    for i in range(cantidad):\n",
        "        while True:\n",
        "            try:\n",
        "                num = float(input(f\"Ingrese el número {i + 1}: \"))\n",
        "                if num < 0:\n",
        "                    print(\"Por favor, ingrese un número real positivo.\")\n",
        "                else:\n",
        "                    lista.append(num)\n",
        "                    break\n",
        "            except ValueError:\n",
        "                print(\"Por favor, ingrese un número válido.\")\n",
        "    return lista\n",
        "\n",
        "def main():\n",
        "    try:\n",
        "        cantidad_elementos = int(input(\"Ingrese la cantidad de elementos de la lista: \"))\n",
        "        if cantidad_elementos < 1:\n",
        "            print(\"Por favor, ingrese un número entero positivo.\")\n",
        "            return\n",
        "        lista_numeros = ingresar_lista_numeros(cantidad_elementos)\n",
        "        vector_numpy = np.array(lista_numeros)\n",
        "        print(\"Lista ingresada:\", lista_numeros)\n",
        "        print(\"Vector NumPy resultante:\", vector_numpy)\n",
        "    except ValueError:\n",
        "        print(\"Por favor, ingrese un número entero válido.\")\n",
        "\n",
        "if __name__ == \"__main__\":\n",
        "    main()"
      ],
      "metadata": {
        "colab": {
          "base_uri": "https://localhost:8080/"
        },
        "id": "SB5iRni30DBB",
        "outputId": "b7ab3fbf-a2da-42ec-a000-1c65afe9400f"
      },
      "id": "SB5iRni30DBB",
      "execution_count": 23,
      "outputs": [
        {
          "output_type": "stream",
          "name": "stdout",
          "text": [
            "Ingrese la cantidad de elementos de la lista: 1\n",
            "Ingrese el número 1: 1\n",
            "Lista ingresada: [1.0]\n",
            "Vector NumPy resultante: [1.]\n"
          ]
        }
      ]
    },
    {
      "cell_type": "markdown",
      "source": [
        "\n",
        "**Ejercicio 3:**\n",
        "\n",
        "Crear un programa donde el usuario ingrese la cantidad de filas y columnas que tendra una tabla de datos. Luego el programa pedira ingresar los datos de la tabla fila por fila. Todos los datos serán numéricos.\n",
        "\n",
        "Mostrar la tabla ingresada en formato LISTA de Python, y mostrar la misma tabla en formato array de Numpy.\n",
        "\n",
        "Solicitar al usuario que ingrese las posiciones de dos filas y realice la suma  de las mismas. Mostrar este vector resultado."
      ],
      "metadata": {
        "id": "ExpBJWL591Yx"
      },
      "id": "ExpBJWL591Yx"
    },
    {
      "cell_type": "code",
      "source": [
        "def ingresar_datos_tabla(filas, columnas):\n",
        "    tabla = []\n",
        "    for i in range(filas):\n",
        "        fila = []\n",
        "        for j in range(columnas):\n",
        "            while True:\n",
        "                try:\n",
        "                    dato = float(input(f\"Ingrese el dato en la fila {i+1}, columna {j+1}: \"))\n",
        "                    fila.append(dato)\n",
        "                    break\n",
        "                except ValueError:\n",
        "                    print(\"Por favor, ingrese un número válido.\")\n",
        "        tabla.append(fila)\n",
        "    return tabla\n",
        "\n",
        "def mostrar_tabla(tabla):\n",
        "    print(\"Tabla en formato de LISTA de Python:\")\n",
        "    for fila in tabla:\n",
        "        print(fila)\n",
        "\n",
        "def main():\n",
        "    try:\n",
        "        filas = int(input(\"Ingrese la cantidad de filas de la tabla: \"))\n",
        "        columnas = int(input(\"Ingrese la cantidad de columnas de la tabla: \"))\n",
        "        if filas < 1 or columnas < 1:\n",
        "            print(\"Por favor, ingrese números enteros positivos.\")\n",
        "            return\n",
        "        tabla_datos = ingresar_datos_tabla(filas, columnas)\n",
        "        mostrar_tabla(tabla_datos)\n",
        "        tabla_numpy = np.array(tabla_datos)\n",
        "        print(\"\\nTabla en formato de array de NumPy:\")\n",
        "        print(tabla_numpy)\n",
        "\n",
        "        # Solicitar al usuario las posiciones de dos filas\n",
        "        try:\n",
        "            fila1 = int(input(\"Ingrese la posición de la primera fila (0-indexed): \"))\n",
        "            fila2 = int(input(\"Ingrese la posición de la segunda fila (0-indexed): \"))\n",
        "            if fila1 < 0 or fila1 >= filas or fila2 < 0 or fila2 >= filas:\n",
        "                print(\"Las posiciones ingresadas están fuera de rango.\")\n",
        "                return\n",
        "            suma_filas = tabla_numpy[fila1] + tabla_numpy[fila2]\n",
        "            print(\"\\nVector resultado de la suma de las filas:\")\n",
        "            print(suma_filas)\n",
        "        except ValueError:\n",
        "            print(\"Por favor, ingrese números enteros válidos para las posiciones de las filas.\")\n",
        "    except ValueError:\n",
        "        print(\"Por favor, ingrese números enteros válidos para la cantidad de filas y columnas.\")\n",
        "\n",
        "if __name__ == \"__main__\":\n",
        "    main()"
      ],
      "metadata": {
        "colab": {
          "base_uri": "https://localhost:8080/"
        },
        "id": "SOrKlI6s1Btj",
        "outputId": "98c1109a-2d3d-46cf-ea10-fbe386c09c8e"
      },
      "id": "SOrKlI6s1Btj",
      "execution_count": 24,
      "outputs": [
        {
          "output_type": "stream",
          "name": "stdout",
          "text": [
            "Ingrese la cantidad de filas de la tabla: 5\n",
            "Ingrese la cantidad de columnas de la tabla: 2\n",
            "Ingrese el dato en la fila 1, columna 1: 1\n",
            "Ingrese el dato en la fila 1, columna 2: 1\n",
            "Ingrese el dato en la fila 2, columna 1: 0\n",
            "Ingrese el dato en la fila 2, columna 2: 0\n",
            "Ingrese el dato en la fila 3, columna 1: 2.5\n",
            "Ingrese el dato en la fila 3, columna 2: 3\n",
            "Ingrese el dato en la fila 4, columna 1: 3\n",
            "Ingrese el dato en la fila 4, columna 2: 4\n",
            "Ingrese el dato en la fila 5, columna 1: -1\n",
            "Ingrese el dato en la fila 5, columna 2: 0.5\n",
            "Tabla en formato de LISTA de Python:\n",
            "[1.0, 1.0]\n",
            "[0.0, 0.0]\n",
            "[2.5, 3.0]\n",
            "[3.0, 4.0]\n",
            "[-1.0, 0.5]\n",
            "\n",
            "Tabla en formato de array de NumPy:\n",
            "[[ 1.   1. ]\n",
            " [ 0.   0. ]\n",
            " [ 2.5  3. ]\n",
            " [ 3.   4. ]\n",
            " [-1.   0.5]]\n",
            "Ingrese la posición de la primera fila (0-indexed): 1\n",
            "Ingrese la posición de la segunda fila (0-indexed): 1\n",
            "\n",
            "Vector resultado de la suma de las filas:\n",
            "[0. 0.]\n"
          ]
        }
      ]
    },
    {
      "cell_type": "markdown",
      "source": [
        "\n",
        "**Ejercicio 4:**\n",
        "\n",
        "\n",
        "A continuación se muestran los valores de  los siguientes productos:\n",
        "\n",
        "['arroz', 'harina','fideo','yerba','azucar']=[145.6 , 100 , 89.90 , 700 , 95]\n",
        "\n",
        "Los valores de estos productos son aproximados de hace dos meses, debido a la inflación y alza de los precios, se vieron afectados de la siguiente manera:\n",
        "*   Producto arroz , harina, azucar duplicaron su precio\n",
        "*   Productos restantes incrementaron en un 75% su precio\n",
        "\n",
        "Mostrar los datos en forma de vector y actualizar sus precios, de manera que se pueda comparar ambos vectores."
      ],
      "metadata": {
        "id": "zOCJT7aV9vZC"
      },
      "id": "zOCJT7aV9vZC"
    },
    {
      "cell_type": "code",
      "source": [
        "productos = ['arroz', 'harina','fideo','yerba','azucar']\n",
        "valores_viejos = np.array([145.6 , 100 , 89.90 , 700 , 95])\n",
        "\n",
        "#Actualizar precios: duplicar arroz, harina y azucar\n",
        "precios_actualizados = np.copy(valores_viejos)\n",
        "indices_duplicados = [0, 1, 4]\n",
        "precios_actualizados[indices_duplicados] *= 2\n",
        "\n",
        "#Actualizar precios que subieron un 75%: fideo y yerba\n",
        "indices_aumento_75 = [2, 3]\n",
        "precios_actualizados[indices_aumento_75] *= 1.75\n",
        "\n",
        "print(\"Precios viejos:\", valores_viejos)\n",
        "print(\"Precios actualizados:\", precios_actualizados)"
      ],
      "metadata": {
        "colab": {
          "base_uri": "https://localhost:8080/"
        },
        "id": "Ho3NRAZn3zry",
        "outputId": "d6a2bd6b-ce83-4ed3-bc11-0b9a57f377ca"
      },
      "id": "Ho3NRAZn3zry",
      "execution_count": 34,
      "outputs": [
        {
          "output_type": "stream",
          "name": "stdout",
          "text": [
            "Precios viejos: [145.6 100.   89.9 700.   95. ]\n",
            "Precios actualizados: [ 291.2    200.     157.325 1225.     190.   ]\n"
          ]
        }
      ]
    },
    {
      "cell_type": "markdown",
      "source": [
        "***EJERCICIO 5***\n",
        "\n",
        "Completar la siguiente tabla de comandos y funciones que se utilizarán sobre vectores definidos a través de Numpy\n",
        "\n",
        "|    | Comando | operación y funcionalidad |resultado | ejemplo |\n",
        "|---|    ---   |               ---         |    ---   |    ---  |\n",
        "1   | np.array([lista])|     crea un vector o table con Numpy  |  matriz   |np.array([1.6, 2, 0, 6.75])\n",
        "2   |np.sqrt(vector)|       calcula la raíz cuadrada de cada elemento en un vector   |  raiz cuadrada |  np.sqrt(vector_np)\n",
        "3   |np.random.rand(n)|     generar números aleatorios con una distribución uniforme en el intervalo   |  número aleatorio | np.random.rand(5)\n",
        "4   |np.ones((n))|          crea un array de tamaño \"n\" donde todos los elementos tienen el valor de 1   |  array de unos | np.ones((3))\n",
        "5   |np.zeros((n))|         crea un array de tamaño \"n\" donde todos los elementos tienen el valor de 1   |  array de ceros | np.zeros((3))\n",
        "6   | np.min(array)|        devuelve el mínimo del arreglo   |valor mínimo| np.min(vector_np)\n",
        "7   | np.max(array)|        devuelve el valor máximo del arreglo   |valor máximo| np.max(vector_np)\n",
        "8   | np.where(CONDICIÓN SOBRE EL VECTOR)| se utiliza para encontrar las posiciones en un vector  |indice|np.where(vector_np>1)\n",
        "9   |np.random.shuffle(MATRIZ)|   mezcla los elementos de la matriz de manera aleatoria  | mezcla | VER EJERCICIO PARTE 2\n",
        "10  |array.shape[n], n=0,1 |   se utiliza para acceder al tamaño de la matriz a lo largo de la dimensión específica \"n\"   | *** | VER EJERCICIO PARTE 2\n",
        "11  |np.sum(array, axis=n), n=0,1|  calcula la suma de los elementos de un array a lo largo de un eje específico | suma un eje |VER EJERCICIO PARTE 1\n",
        "12  |np.arange(a, b, p)|  genera un array de valores en un rango definido  | genera un array |np.arange(0, 10, 0.1) VER EJERCICIOS PARTE 3\n",
        "\n",
        "\n"
      ],
      "metadata": {
        "id": "zNFELZiHwE4O"
      },
      "id": "zNFELZiHwE4O"
    },
    {
      "cell_type": "markdown",
      "metadata": {
        "id": "eXzkUDjx-o6u"
      },
      "source": [
        "#  Funciones matemáticas sobre vectores\n",
        "En esta sección, se aplican funciones matemáticas a un vector utilizando Python puro y NumPy. Luego, se imprime el resultado de cada función.\n",
        "\n",
        "**ACLARACIÓN:** Estas funciones utilizan funciones y operaciones elementales matemáticas, sobre cada una de las posiciones del vector. Pero en general, se pueden definir funciones matemáticas que relacionan diferentes posiciones de un vector."
      ],
      "id": "eXzkUDjx-o6u"
    },
    {
      "cell_type": "code",
      "execution_count": 36,
      "metadata": {
        "id": "t12Cq_uD-o6u",
        "colab": {
          "base_uri": "https://localhost:8080/"
        },
        "outputId": "461830b1-6d52-46fa-cca6-009fbde92e49"
      },
      "outputs": [
        {
          "output_type": "stream",
          "name": "stdout",
          "text": [
            "Raíz cuadrada en Python puro: [1.0, 1.4142135623730951, 1.7320508075688772, 2.0, 2.23606797749979]\n",
            "Raíz cuadrada en NumPy: [1.         1.41421356 1.73205081 2.         2.23606798]\n",
            "Vector al cuadrado en Python:  [1, 4, 9, 16, 25]\n",
            "logaritmo de un Vector en Python:  [0.0, 0.6931471805599453, 1.0986122886681098, 1.3862943611198906, 1.6094379124341003]\n",
            "logaritmo de un Vector en Numpy:  [0.         0.69314718 1.09861229 1.38629436 1.60943791]\n"
          ]
        }
      ],
      "source": [
        "import math\n",
        "vector_py = [1, 2, 3, 4, 5]\n",
        "vector_np = np.array([1, 2, 3, 4, 5])\n",
        "raiz_cuadrada_py = [math.sqrt(x) for x in vector_py]\n",
        "vector_cuad=[(x**2) for x in vector_np]\n",
        "vector_log=[math.log(x) for x in vector_np]\n",
        "raiz_cuadrada_np = np.sqrt(vector_np)\n",
        "vector_npLog=np.log(vector_np)\n",
        "print(\"Raíz cuadrada en Python puro:\", raiz_cuadrada_py)\n",
        "print(\"Raíz cuadrada en NumPy:\", raiz_cuadrada_np)\n",
        "print('Vector al cuadrado en Python: ',vector_cuad)\n",
        "print('logaritmo de un Vector en Python: ',vector_log)\n",
        "print('logaritmo de un Vector en Numpy: ',vector_npLog)"
      ],
      "id": "t12Cq_uD-o6u"
    },
    {
      "cell_type": "markdown",
      "metadata": {
        "id": "bry8WTMN-o6v"
      },
      "source": [
        "####  Rendimiento\n",
        "En esta celda, se mide el rendimiento de operaciones en un vector utilizando Python puro y NumPy. Se imprime el tiempo de ejecución de cada operación."
      ],
      "id": "bry8WTMN-o6v"
    },
    {
      "cell_type": "code",
      "execution_count": 37,
      "metadata": {
        "colab": {
          "base_uri": "https://localhost:8080/"
        },
        "id": "JabuzFhf-o6v",
        "outputId": "8ed34bfa-c2ce-4b4f-ebd3-e0451143b4a3"
      },
      "outputs": [
        {
          "output_type": "stream",
          "name": "stdout",
          "text": [
            "Tiempo en Python puro: 0.14632654190063477 segundos\n",
            "Tiempo en NumPy: 5.173683166503906e-05 segundos\n"
          ]
        }
      ],
      "source": [
        "import time\n",
        "vector_py = [i for i in range(1000000)]\n",
        "vector_np = np.arange(1000000)\n",
        "\n",
        "start_time = time.time()\n",
        "[x * 2 for x in vector_py]\n",
        "end_time = time.time()\n",
        "print(\"Tiempo en Python puro:\", end_time - start_time, \"segundos\")\n",
        "\n",
        "start_time = time.time()\n",
        "end_time = time.time()\n",
        "print(\"Tiempo en NumPy:\", end_time - start_time, \"segundos\")"
      ],
      "id": "JabuzFhf-o6v"
    },
    {
      "cell_type": "markdown",
      "metadata": {
        "id": "iqiM6a2i-o6x"
      },
      "source": [
        "## Redimensionar un NumPy\n",
        "A continuación se presentan dos ejemplos de redimensionamiento de un NumPy:"
      ],
      "id": "iqiM6a2i-o6x"
    },
    {
      "cell_type": "markdown",
      "metadata": {
        "id": "fkDQpzMo-o6x"
      },
      "source": [
        "#### Redimensionamiento 1\n",
        "En esta celda, se crea un NumPy 'array' y se utiliza la función reshape() de NumPy para redimensionarlo a una forma diferente. Luego, se imprime el nuevo array."
      ],
      "id": "fkDQpzMo-o6x"
    },
    {
      "cell_type": "code",
      "execution_count": 38,
      "metadata": {
        "colab": {
          "base_uri": "https://localhost:8080/"
        },
        "id": "zg5ygnQ6-o6x",
        "outputId": "3e9c6cd6-d96d-4bff-cd4e-8729477cba41"
      },
      "outputs": [
        {
          "output_type": "stream",
          "name": "stdout",
          "text": [
            "Nuevo array redimensionado: [[1 2 3]\n",
            " [4 5 6]]\n"
          ]
        }
      ],
      "source": [
        "array = np.array([1, 2, 3, 4, 5, 6])\n",
        "nuevo_array = array.reshape((2, 3))\n",
        "print(\"Nuevo array redimensionado:\", nuevo_array)"
      ],
      "id": "zg5ygnQ6-o6x"
    },
    {
      "cell_type": "markdown",
      "metadata": {
        "id": "2xfwP-s5-o6x"
      },
      "source": [
        "#### Redimensionamiento 2\n",
        "En esta celda, se crea un NumPy 'array' y se utiliza la función np.resize() de NumPy para redimensionarlo a una forma diferente. Luego, se imprime el nuevo array."
      ],
      "id": "2xfwP-s5-o6x"
    },
    {
      "cell_type": "code",
      "execution_count": 39,
      "metadata": {
        "colab": {
          "base_uri": "https://localhost:8080/"
        },
        "id": "cNbF-5i3-o6x",
        "outputId": "17bd89af-f858-4686-bb6c-a14b2166f266"
      },
      "outputs": [
        {
          "output_type": "stream",
          "name": "stdout",
          "text": [
            "Nuevo array redimensionado: [[1 2 3]\n",
            " [4 5 6]\n",
            " [1 2 3]]\n"
          ]
        }
      ],
      "source": [
        "array = np.array([1, 2, 3, 4, 5, 6])\n",
        "nuevo_array = np.resize(array, (3, 3))\n",
        "print(\"Nuevo array redimensionado:\", nuevo_array)"
      ],
      "id": "cNbF-5i3-o6x"
    },
    {
      "cell_type": "markdown",
      "source": [
        "# ***EJERCICIOS PARTE 2***\n",
        "\n",
        "**Ejercicio 1:**\n",
        "\n",
        "Dado una matriz de datos, dividir el 70% de filas en un array_entrenamiento y el otro 30% en otro array_testeo. Esta distribución de filas de la matriz inicial, debe ser aleatoria. Mostrar las matrices al ser modificadas por el comando np.random.shuffle('matriz'). Finalmente mostrar los array_entrenamiento y array_testeo."
      ],
      "metadata": {
        "id": "2hHxd6eg6w1u"
      },
      "id": "2hHxd6eg6w1u"
    },
    {
      "cell_type": "code",
      "source": [
        "dataset = np.array([[25, 1, 7, 100, 1],\n",
        "                    [30, 2, 5, 120, 0],\n",
        "                    [22, 1, 6, 80, 1],\n",
        "                    [28, 1, 6, 90, 0],\n",
        "                    [35, 2, 4, 130, 1],\n",
        "                    [32, 2, 6, 110, 1],\n",
        "                    [26, 1, 8, 95, 1],\n",
        "                    [24, 1, 5, 85, 0],\n",
        "                    [29, 2, 7, 115, 1],\n",
        "                    [31, 2, 6, 105, 0]])\n",
        "\n",
        "# Mezclar las filas de la matriz para obtener una distribución aleatoria de los datos\n",
        "np.random.shuffle(dataset)\n",
        "print(dataset)\n",
        "\n",
        "indice_division = int(0.7 * dataset.shape[0])\n",
        "\n",
        "# Dividir la matriz en conjunto de entrenamiento y conjunto de prueba\n",
        "array_entrenamiento = dataset[:indice_division]\n",
        "array_testeo = dataset[indice_division:]\n",
        "\n",
        "print(\"Array entrenamiento: \", array_entrenamiento)\n",
        "print(\"Array testeo: \", array_testeo)\n",
        "\n",
        "\n",
        "\n"
      ],
      "metadata": {
        "colab": {
          "base_uri": "https://localhost:8080/"
        },
        "id": "pzZwS3lF6M-6",
        "outputId": "4faf3c98-2121-424d-9e71-8da8557306db"
      },
      "execution_count": 44,
      "outputs": [
        {
          "output_type": "stream",
          "name": "stdout",
          "text": [
            "[[ 29   2   7 115   1]\n",
            " [ 22   1   6  80   1]\n",
            " [ 31   2   6 105   0]\n",
            " [ 24   1   5  85   0]\n",
            " [ 30   2   5 120   0]\n",
            " [ 32   2   6 110   1]\n",
            " [ 25   1   7 100   1]\n",
            " [ 28   1   6  90   0]\n",
            " [ 26   1   8  95   1]\n",
            " [ 35   2   4 130   1]]\n",
            "Array entrenamiento:  [[ 29   2   7 115   1]\n",
            " [ 22   1   6  80   1]\n",
            " [ 31   2   6 105   0]\n",
            " [ 24   1   5  85   0]\n",
            " [ 30   2   5 120   0]\n",
            " [ 32   2   6 110   1]\n",
            " [ 25   1   7 100   1]]\n",
            "Array testeo:  [[ 28   1   6  90   0]\n",
            " [ 26   1   8  95   1]\n",
            " [ 35   2   4 130   1]]\n"
          ]
        }
      ],
      "id": "pzZwS3lF6M-6"
    },
    {
      "cell_type": "markdown",
      "source": [
        "**Ejercicio 2:**\n",
        "\n",
        "Dado la siguiente tabla de datos poblaciones de las Provincias de Argentina (Ejercicio 10 del Práctico 1), Realizar el siguiente analisis.\n",
        "\n",
        "\n",
        "\n",
        "*   indicar la cantidad de filas y columnas que posee la tabla de datos.\n",
        "*   Mostrar toda la información de la provincia con Mayor Cantidad de habitantes. AYUDA: usar la función np.max(array)\n",
        "*   Agregar a la tabla de datos una fila al final , indicando los totales de cada columna. Mostrar el resultado de la nueva tabla.\n",
        "\n"
      ],
      "metadata": {
        "id": "9WqSL4cG7LhH"
      },
      "id": "9WqSL4cG7LhH"
    },
    {
      "cell_type": "code",
      "source": [
        "poblacionArgentina1=[\n",
        "    ['PROVINCIA','CANTIDAD DE HABITANTES','CONSUMO EN MWH','SUPERFICIE EN KM^2'],\n",
        "    ['Buenos Aires','17.569.053',' 16543722',' 305907'],\n",
        "    ['Córdoba','3.978.984',' 10606601','164708'],\n",
        "    ['Santa Fe','3.556.522',' 13078203',' 133249'],\n",
        "    ['Ciudad Autónoma de Buenos Aires','3.120.612','51712507',' 201'],\n",
        "    ['Mendoza','2.014.533',' 5652519',' 149069'],\n",
        "    ['Tucumán','1.703.186','3208711','22.524'],\n",
        "    ['Salta','1.440.672',' 2214796',' 155341'],\n",
        "    ['Entre Ríos','1.426.426','3906353','78384'],\n",
        "    ['Misiones','1.280.960','2845762',' 29911'],\n",
        "    ['Corrientes','1.197.553','2997612',' 89123'],\n",
        "    ['Chaco','1.142.963','3045380',' 99763'],\n",
        "    ['Santiago del Estero','1.054.028',' 1811277',' 136934'],\n",
        "    ['San Juan','818.234',' 2381940',' 88296'],\n",
        "   ['Jujuy','797.955',' 1136336',' 53244'],\n",
        "   ['Río Negro','762.067',' 1984782','202169'],\n",
        "   ['Neuquén','726.590','1834879',' 94422'],\n",
        "   ['Formosa','606.041',' 1388311','75488'],\n",
        "   ['Chubut','603.120','1646029',' 224302'],\n",
        "   ['San Luis','540.905',' 1780881','75347'],\n",
        "   ['Catamarca','429.556',' 1337032','101486'],\n",
        "   ['La Rioja','384.607','1572290',' 91494'],\n",
        "   ['La Pampa','366.022','915781',' 143493'],\n",
        "   ['Santa Cruz','333.473',' 1025648',' 244458'],\n",
        "   ['Tierra del Fuego, Antártida e Islas del Atlántico Sur','190.641',' s/d ',' 37131']]\n",
        "\n",
        "poblacionArgentina=np.array(poblacionArgentina1)\n",
        "\n",
        "print(poblacionArgentina)\n",
        "\n",
        "#R.G.: indicar la cantidad de filas y columnas que posee la tabla de datos.\n",
        "filas = poblacionArgentina.shape[0]\n",
        "columnas = poblacionArgentina.shape[1]\n",
        "print(\"Cantidad de filas:\", filas)\n",
        "print(\"Cantidad de columnas:\", columnas)\n",
        "\n",
        "#R.G.: Mostrar toda la información de la provincia con Mayor Cantidad de habitantes. AYUDA: usar la función np.max(array)\n",
        "columna_habitantes = poblacionArgentina[1:, 1]\n",
        "habitantes_numericos = [int(h.replace('.', '')) for h in columna_habitantes]\n",
        "\n",
        "# Encontrar el índice del máximo valor de habitantes\n",
        "indice_max_habitantes = np.argmax(habitantes_numericos) + 1\n",
        "provincia_mayor_cantidad_habitantes = poblacionArgentina[indice_max_habitantes]\n",
        "print(\"Provincia con mayor cantidad de habitantes:\", provincia_mayor_cantidad_habitantes)\n",
        "\n",
        "#Agregar a la tabla de datos una fila al final , indicando los totales de cada columna. Mostrar el resultado de la nueva tabla.\n",
        "total_habitantes = sum(habitantes_numericos)\n",
        "\n",
        "# Función para convertir valores a enteros o 0 (en caso de 's/d')\n",
        "def convertir_a_entero_o_sd(valor):\n",
        "    if valor == 's/d':\n",
        "        return -1\n",
        "    else:\n",
        "        return int(valor.replace('.', '').replace(' ', ''))\n",
        "\n",
        "# Convertir la columna de superficie en km^2 a valores numéricos\n",
        "superficie_km2_numericos = [convertir_a_entero_o_sd(s) for s in poblacionArgentina[1:, 3]]\n",
        "\n",
        "# Calcular totales de habitantes y superficie (ignorar los valores -1)\n",
        "total_habitantes = sum([h for h in habitantes_numericos if h != -1])\n",
        "total_superficie_km2 = sum([s for s in superficie_km2_numericos if s != -1])\n",
        "\n",
        "# Crear fila de totales\n",
        "fila_totales = ['TOTAL', f'{total_habitantes:,}', 's/d' if total_habitantes == -1 else f'{total_habitantes:,}', f'{total_superficie_km2:,}']\n",
        "\n",
        "# Agregar fila de totales al final del array de NumPy\n",
        "poblacionArgentina = np.append(poblacionArgentina, [fila_totales], axis=0)\n",
        "\n",
        "# Imprimir la tabla actualizada con la fila de totales\n",
        "for fila in poblacionArgentina:\n",
        "    print(\"\\t\".join(fila))"
      ],
      "metadata": {
        "colab": {
          "base_uri": "https://localhost:8080/"
        },
        "id": "5h1AALwz8Eqo",
        "outputId": "bf709adc-56f5-432f-ba23-7ffc49c0914c"
      },
      "id": "5h1AALwz8Eqo",
      "execution_count": 73,
      "outputs": [
        {
          "output_type": "stream",
          "name": "stdout",
          "text": [
            "[['PROVINCIA' 'CANTIDAD DE HABITANTES' 'CONSUMO EN MWH'\n",
            "  'SUPERFICIE EN KM^2']\n",
            " ['Buenos Aires' '17.569.053' ' 16543722' ' 305907']\n",
            " ['Córdoba' '3.978.984' ' 10606601' '164708']\n",
            " ['Santa Fe' '3.556.522' ' 13078203' ' 133249']\n",
            " ['Ciudad Autónoma de Buenos Aires' '3.120.612' '51712507' ' 201']\n",
            " ['Mendoza' '2.014.533' ' 5652519' ' 149069']\n",
            " ['Tucumán' '1.703.186' '3208711' '22.524']\n",
            " ['Salta' '1.440.672' ' 2214796' ' 155341']\n",
            " ['Entre Ríos' '1.426.426' '3906353' '78384']\n",
            " ['Misiones' '1.280.960' '2845762' ' 29911']\n",
            " ['Corrientes' '1.197.553' '2997612' ' 89123']\n",
            " ['Chaco' '1.142.963' '3045380' ' 99763']\n",
            " ['Santiago del Estero' '1.054.028' ' 1811277' ' 136934']\n",
            " ['San Juan' '818.234' ' 2381940' ' 88296']\n",
            " ['Jujuy' '797.955' ' 1136336' ' 53244']\n",
            " ['Río Negro' '762.067' ' 1984782' '202169']\n",
            " ['Neuquén' '726.590' '1834879' ' 94422']\n",
            " ['Formosa' '606.041' ' 1388311' '75488']\n",
            " ['Chubut' '603.120' '1646029' ' 224302']\n",
            " ['San Luis' '540.905' ' 1780881' '75347']\n",
            " ['Catamarca' '429.556' ' 1337032' '101486']\n",
            " ['La Rioja' '384.607' '1572290' ' 91494']\n",
            " ['La Pampa' '366.022' '915781' ' 143493']\n",
            " ['Santa Cruz' '333.473' ' 1025648' ' 244458']\n",
            " ['Tierra del Fuego, Antártida e Islas del Atlántico Sur' '190.641'\n",
            "  ' s/d ' ' 37131']]\n",
            "Cantidad de filas: 25\n",
            "Cantidad de columnas: 4\n",
            "Provincia con mayor cantidad de habitantes: ['Buenos Aires' '17.569.053' ' 16543722' ' 305907']\n",
            "PROVINCIA\tCANTIDAD DE HABITANTES\tCONSUMO EN MWH\tSUPERFICIE EN KM^2\n",
            "Buenos Aires\t17.569.053\t 16543722\t 305907\n",
            "Córdoba\t3.978.984\t 10606601\t164708\n",
            "Santa Fe\t3.556.522\t 13078203\t 133249\n",
            "Ciudad Autónoma de Buenos Aires\t3.120.612\t51712507\t 201\n",
            "Mendoza\t2.014.533\t 5652519\t 149069\n",
            "Tucumán\t1.703.186\t3208711\t22.524\n",
            "Salta\t1.440.672\t 2214796\t 155341\n",
            "Entre Ríos\t1.426.426\t3906353\t78384\n",
            "Misiones\t1.280.960\t2845762\t 29911\n",
            "Corrientes\t1.197.553\t2997612\t 89123\n",
            "Chaco\t1.142.963\t3045380\t 99763\n",
            "Santiago del Estero\t1.054.028\t 1811277\t 136934\n",
            "San Juan\t818.234\t 2381940\t 88296\n",
            "Jujuy\t797.955\t 1136336\t 53244\n",
            "Río Negro\t762.067\t 1984782\t202169\n",
            "Neuquén\t726.590\t1834879\t 94422\n",
            "Formosa\t606.041\t 1388311\t75488\n",
            "Chubut\t603.120\t1646029\t 224302\n",
            "San Luis\t540.905\t 1780881\t75347\n",
            "Catamarca\t429.556\t 1337032\t101486\n",
            "La Rioja\t384.607\t1572290\t 91494\n",
            "La Pampa\t366.022\t915781\t 143493\n",
            "Santa Cruz\t333.473\t 1025648\t 244458\n",
            "Tierra del Fuego, Antártida e Islas del Atlántico Sur\t190.641\t s/d \t 37131\n",
            "TOTAL\t46,044,703\t46,044,703\t2,796,444\n"
          ]
        }
      ]
    },
    {
      "cell_type": "markdown",
      "metadata": {
        "id": "lQwZW6nj-o67"
      },
      "source": [
        "# Ploteo de datos con Matplotlib\n",
        "A continuación se presentan ejemplos de diferentes tipos de gráficos utilizando Matplotlib:"
      ],
      "id": "lQwZW6nj-o67"
    },
    {
      "cell_type": "markdown",
      "metadata": {
        "id": "W6xs2svw-o67"
      },
      "source": [
        "## Gráfica de funciones matemáticas elementales\n",
        "En esta celda, se crea un array 'x' con valores en el rango de 0 a 10 y se utiliza la función np.sin() y np.cos() de NumPy para calcular el seno y coseno de cada valor en 'x'. Luego, se utiliza la biblioteca Matplotlib para trazar un gráfico de línea con 'x' en el eje x y 'y' en el eje y. También se agrega etiquetas y un título al gráfico."
      ],
      "id": "W6xs2svw-o67"
    },
    {
      "cell_type": "code",
      "execution_count": 74,
      "metadata": {
        "colab": {
          "base_uri": "https://localhost:8080/",
          "height": 472
        },
        "id": "GQGdYmNN-o67",
        "outputId": "a0885fe1-3574-451f-ee53-8c5f30ed1ef2"
      },
      "outputs": [
        {
          "output_type": "display_data",
          "data": {
            "text/plain": [
              "<Figure size 640x480 with 1 Axes>"
            ],
            "image/png": "[encoded data removed]"
          },
          "metadata": {}
        }
      ],
      "source": [
        "import matplotlib.pyplot as plt\n",
        "\n",
        "x = np.arange(0, 10, 0.1)\n",
        "y = np.cos(x)\n",
        "\n",
        "plt.plot(x, y)\n",
        "plt.xlabel('x')\n",
        "plt.ylabel('y')\n",
        "plt.title('Gráfico de línea')\n",
        "plt.show()"
      ],
      "id": "GQGdYmNN-o67"
    },
    {
      "cell_type": "markdown",
      "source": [
        "# ***EJERCICIOS PARTE 3***\n",
        "\n",
        "Realizar las gráficas de las siguientes expresiones matemáticas. Determinar el dominio del eje x adecuado para plotear las funciones de manera que se visualice su comportamiento.\n",
        "\n",
        "\n",
        "*  $ y= 3x -2$\n",
        "*   $y= 2x^2+4x+2 $\n",
        "*   $y= \\vert x\\vert= \\begin{cases}-x & x < 0 \\\\ x & x\\ge 0                       \\end{cases}$\n",
        "*   $y= 1/x$\n",
        "*   $y=\\sqrt x$\n",
        "\n",
        "\n"
      ],
      "metadata": {
        "id": "Q0dztL-66aVb"
      },
      "id": "Q0dztL-66aVb"
    },
    {
      "cell_type": "code",
      "source": [
        "#y=3x−2\n",
        "x = np.linspace(-10, 10, 100)\n",
        "y = 3 * x - 2\n",
        "plt.plot(x, y)\n",
        "plt.xlabel('x')\n",
        "plt.ylabel('y')\n",
        "plt.title('Gráfico de y=3x−2')\n",
        "plt.show()\n"
      ],
      "metadata": {
        "colab": {
          "base_uri": "https://localhost:8080/",
          "height": 472
        },
        "id": "prTeA4quQFcj",
        "outputId": "cf28fc8b-370d-4003-9563-cfe45850a331"
      },
      "id": "prTeA4quQFcj",
      "execution_count": 82,
      "outputs": [
        {
          "output_type": "display_data",
          "data": {
            "text/plain": [
              "<Figure size 640x480 with 1 Axes>"
            ],
            "image/png": "[encoded data removed]"
          },
          "metadata": {}
        }
      ]
    },
    {
      "cell_type": "code",
      "source": [
        "#y=2x2+4x+2\n",
        "x = np.linspace(-10, 10, 100)\n",
        "y = 2*2+4*x+2\n",
        "plt.plot(x, y)\n",
        "plt.xlabel('x')\n",
        "plt.ylabel('y')\n",
        "plt.title('Gráfico de y=2x2+4x+2')\n",
        "plt.show()"
      ],
      "metadata": {
        "colab": {
          "base_uri": "https://localhost:8080/",
          "height": 472
        },
        "id": "tI2FT_PLQ9cj",
        "outputId": "9b4df26a-8d5f-4525-8d2e-1b9378b6f765"
      },
      "id": "tI2FT_PLQ9cj",
      "execution_count": 87,
      "outputs": [
        {
          "output_type": "display_data",
          "data": {
            "text/plain": [
              "<Figure size 640x480 with 1 Axes>"
            ],
            "image/png": "[encoded data removed]"
          },
          "metadata": {}
        }
      ]
    },
    {
      "cell_type": "markdown",
      "source": [
        "y=|x|={−xxx<0x≥0"
      ],
      "metadata": {
        "id": "RGEtvZvgRRvk"
      },
      "id": "RGEtvZvgRRvk"
    },
    {
      "cell_type": "code",
      "source": [
        "#y=|x|={−xxx<0x≥0\n",
        "#No sé como hacer esto\n",
        "x = np.linspace(-10, 10, 100)\n",
        "y = |x|={−xxx<0x≥0\n",
        "plt.plot(x, y)\n",
        "plt.xlabel('x')\n",
        "plt.ylabel('y')\n",
        "plt.title('Gráfico de y=|x|={−xxx<0x≥0')\n",
        "plt.show()"
      ],
      "metadata": {
        "colab": {
          "base_uri": "https://localhost:8080/",
          "height": 140
        },
        "id": "wq0HdPQRRKpc",
        "outputId": "fd3477e0-8cbf-46bd-a1f9-5157a6593f97"
      },
      "id": "wq0HdPQRRKpc",
      "execution_count": 85,
      "outputs": [
        {
          "output_type": "error",
          "ename": "SyntaxError",
          "evalue": "ignored",
          "traceback": [
            "\u001b[0;36m  File \u001b[0;32m\"<ipython-input-85-1519c876b345>\"\u001b[0;36m, line \u001b[0;32m3\u001b[0m\n\u001b[0;31m    y = |x|={−xxx<0x≥0\u001b[0m\n\u001b[0m             ^\u001b[0m\n\u001b[0;31mSyntaxError\u001b[0m\u001b[0;31m:\u001b[0m invalid character '−' (U+2212)\n"
          ]
        }
      ]
    },
    {
      "cell_type": "code",
      "source": [
        "#y=1/x\n",
        "x = np.linspace(-10, 10, 100)\n",
        "y = 1/x\n",
        "plt.plot(x, y)\n",
        "plt.xlabel('x')\n",
        "plt.ylabel('y')\n",
        "plt.title('Gráfico de y=1/x')\n",
        "plt.show()"
      ],
      "metadata": {
        "colab": {
          "base_uri": "https://localhost:8080/",
          "height": 472
        },
        "id": "ytlKs-R-Rq-s",
        "outputId": "9eaf1bc0-f583-49f7-b029-6e7c4f23a872"
      },
      "id": "ytlKs-R-Rq-s",
      "execution_count": 88,
      "outputs": [
        {
          "output_type": "display_data",
          "data": {
            "text/plain": [
              "<Figure size 640x480 with 1 Axes>"
            ],
            "image/png": "[encoded data removed]"
          },
          "metadata": {}
        }
      ]
    },
    {
      "cell_type": "code",
      "source": [
        "#y=√x\n",
        "x = np.linspace(-10, 10, 100)\n",
        "y = np.sqrt(x)\n",
        "plt.plot(x, y)\n",
        "plt.xlabel('x')\n",
        "plt.ylabel('y')\n",
        "plt.title('Gráfico de y=√x')\n",
        "plt.show()"
      ],
      "metadata": {
        "colab": {
          "base_uri": "https://localhost:8080/",
          "height": 507
        },
        "id": "l_Ju-gdcRXIs",
        "outputId": "ee07ca8f-f1e7-4414-9472-aca5846fc44b"
      },
      "id": "l_Ju-gdcRXIs",
      "execution_count": 93,
      "outputs": [
        {
          "output_type": "stream",
          "name": "stderr",
          "text": [
            "<ipython-input-93-293a90a1f010>:3: RuntimeWarning: invalid value encountered in sqrt\n",
            "  y = np.sqrt(x)\n"
          ]
        },
        {
          "output_type": "display_data",
          "data": {
            "text/plain": [
              "<Figure size 640x480 with 1 Axes>"
            ],
            "image/png": "[encoded data removed]"
          },
          "metadata": {}
        }
      ]
    }
  ],
  "metadata": {
    "kernelspec": {
      "display_name": "Python 3",
      "language": "python",
      "name": "python3"
    },
    "language_info": {
      "codemirror_mode": {
        "name": "ipython",
        "version": 3
      },
      "file_extension": ".py",
      "mimetype": "text/x-python",
      "name": "python",
      "nbconvert_exporter": "python",
      "pygments_lexer": "ipython3",
      "version": "3.11.1"
    },
    "colab": {
      "provenance": [],
      "include_colab_link": true
    }
  },
  "nbformat": 4,
  "nbformat_minor": 5
}
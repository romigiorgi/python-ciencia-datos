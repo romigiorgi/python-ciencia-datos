{
  "nbformat": 4,
  "nbformat_minor": 0,
  "metadata": {
    "colab": {
      "provenance": [],
      "include_colab_link": true
    },
    "kernelspec": {
      "name": "python3",
      "display_name": "Python 3"
    },
    "language_info": {
      "name": "python"
    }
  },
  "cells": [
    {
      "cell_type": "markdown",
      "metadata": {
        "id": "view-in-github",
        "colab_type": "text"
      },
      "source": [
        "<a href=\"https://colab.research.google.com/github/romigiorgi/python-ciencia-datos/blob/main/Primeros_Pasos_en_Coogle_Colab_Romina_Giorgi.ipynb\" target=\"_parent\"><img src=\"https://colab.research.google.com/assets/colab-badge.svg\" alt=\"Open In Colab\"/></a>"
      ]
    },
    {
      "cell_type": "code",
      "execution_count": null,
      "metadata": {
        "id": "PWkuilbLs_BD",
        "outputId": "23bd9f33-2789-4fc5-a8db-b1c27d7e4344",
        "colab": {
          "base_uri": "https://localhost:8080/"
        }
      },
      "outputs": [
        {
          "output_type": "stream",
          "name": "stdout",
          "text": [
            "Cotización dolar: 518\n",
            "Sueldo en dolares: 1600\n",
            "Sueldo en pesos: 828800\n"
          ]
        }
      ],
      "source": [
        "cotizacion_dolar = int( input(\"Cotización dolar: \") )\n",
        "sueldo_en_dolares = int( input(\"Sueldo en dolares: \") )\n",
        "\n",
        "print(\"Sueldo en pesos:\", (sueldo_en_dolares*cotizacion_dolar))"
      ]
    }
  ]
}
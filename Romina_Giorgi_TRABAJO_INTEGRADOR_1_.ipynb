{
  "nbformat": 4,
  "nbformat_minor": 0,
  "metadata": {
    "colab": {
      "provenance": [],
      "include_colab_link": true
    },
    "kernelspec": {
      "name": "python3",
      "display_name": "Python 3"
    },
    "language_info": {
      "name": "python"
    }
  },
  "cells": [
    {
      "cell_type": "markdown",
      "metadata": {
        "id": "view-in-github",
        "colab_type": "text"
      },
      "source": [
        "<a href=\"https://colab.research.google.com/github/romigiorgi/python-ciencia-datos/blob/main/Romina_Giorgi_TRABAJO_INTEGRADOR_1_.ipynb\" target=\"_parent\"><img src=\"https://colab.research.google.com/assets/colab-badge.svg\" alt=\"Open In Colab\"/></a>"
      ]
    },
    {
      "cell_type": "markdown",
      "source": [
        "# ***TRABAJO INTEGRADOR I- ***\n",
        "DATOS BASADOS EN INFORMACIÓN PÚBLICA EN ARGENTINA\n",
        "\n",
        "\n"
      ],
      "metadata": {
        "id": "yWFMEJp2Zd1E"
      }
    },
    {
      "cell_type": "markdown",
      "source": [
        "---\n",
        "## **Acceso a los diferentes dataset y visualizacion**\n",
        "\n",
        "#Los dataset podran ser descargado del siguiente [enlace de drive](https://drive.google.com/drive/folders/1J-R6fricR7D1uf9g_Cg8gbIMajCe-eYw?usp=sharing). en algunos casos los datase contiene información de diferentes periodos de tiempo y etiquetas de las variables con nomenclatura específica. Para tener referencia de los datos de cada variables de la base de datos consultar en los siguientes enlaces según el dataset elegido.\n",
        "\n",
        "\n",
        "\n",
        "|    | Tema | Nombre del archivo | Enlace |\n",
        "|---|    ---   |         ---         |   ---  |\n",
        "1   | .... | spam.csv  |  ....   |\n",
        "2   | supermercados| ventas-supermercados-2.csv  | [dataset de supermercados](https://www.datos.gob.ar/dataset/sspm_455/archivo/sspm_455.1) |\n",
        "3   | Mercado Central de Bs As |precios-mercadocentral.csv| [dataset de mercado](https://datos.gob.ar/ar/dataset/agroindustria-frutas-hortalizas---precios-mayoristas/archivo/agroindustria_6dce1e87-7988-4eaf-b0e1-b3abbb3964da) |"
      ],
      "metadata": {
        "id": "DzfaPyiWmMZJ"
      }
    },
    {
      "cell_type": "markdown",
      "source": [
        "#Apellido, Nombre, DNI, email de todos los integrantes del grupo:\n",
        "Giorgi, Romina Paola\n",
        "\n",
        "32767651\n",
        "\n",
        "rominapgiorgi@hotmail.com\n",
        "\n",
        "Individual"
      ],
      "metadata": {
        "id": "s6OYVREZDtXF"
      }
    },
    {
      "cell_type": "markdown",
      "source": [
        "#Redactar en formato resumen la problematica planteado e interes en el análisis del dataset elegido, el impacto que puede llevar a futuro analizar o cruzar información sobre dichas variables ,y cual sería a priori, el modelo a resulado que usted quisiera encontrar en funciones de determinadas condiciones. Esto deberá ser detallado en forma breve a modo de introducción\n"
      ],
      "metadata": {
        "id": "Q2wopJgTECIF"
      }
    },
    {
      "cell_type": "markdown",
      "source": [
        "Quiero analisar los datos del Tomate Cherry y ver como varia su precio a lo largo del tiempo. Al ser datos continuos voy a utilizar el modelo de *Regresión Lineal* para llevar a cabo dicho analisis. Con la opción de poder predecir precios en el futuro.\n",
        "Por otro lado, quiero analisar todos los precios del dataset y separarlos entre Baratos y Caros. Al categorizarlos voy a utilizar el modelo de *Regresión Logistica*. Quiero poder marcar una clara Frontera de Decisión.También quiero que se pueda predecir si un precio es Barato o Caro. Todo esto para que facilite la toma de decisiones en compras a futuro."
      ],
      "metadata": {
        "id": "OKsbIcB8EYGh"
      }
    },
    {
      "cell_type": "markdown",
      "source": [
        "_________________________________________________________________\n",
        "_________________________________________________________________\n",
        "_________________________________________________________________\n",
        "_________________________________________________________________\n",
        "##1- Ingrese el DATA SET"
      ],
      "metadata": {
        "id": "9YjUx7xKzBnw"
      }
    },
    {
      "cell_type": "code",
      "execution_count": 3,
      "metadata": {
        "id": "fDny-v5Dxl6I"
      },
      "outputs": [],
      "source": [
        "#Subir archivo en la carpetita que aparece a la izquierda del colab, luego copiar la ruta\n",
        "#y subirlo con las librerias necesarias\n",
        "\n",
        "import numpy as np\n",
        "import pandas as pd\n",
        "csv_path = '/content/precios-mercadocentral.csv'\n",
        "df_mercadocentral = pd.read_csv(csv_path, encoding='latin-1')"
      ]
    },
    {
      "cell_type": "markdown",
      "source": [
        "##2- Aplicar PROCESO de ANÁLISIS EXPLORATORIO DE LOS DATOS (Algunas funciones comúnes que puedes aplicar: .head .info .describe etc)."
      ],
      "metadata": {
        "id": "ajWaCuM0zJhN"
      }
    },
    {
      "cell_type": "code",
      "source": [
        "df_mercadocentral.head(10)"
      ],
      "metadata": {
        "id": "7t0-4wZyziwH",
        "colab": {
          "base_uri": "https://localhost:8080/",
          "height": 536
        },
        "outputId": "1de36656-042c-4b4e-ff2f-1a1fad5509ca"
      },
      "execution_count": 4,
      "outputs": [
        {
          "output_type": "execute_result",
          "data": {
            "text/plain": [
              "   pais_id       pais                          mercado   año    mes  \\\n",
              "0       32  Argentina  Mercado Central de Buenos Aires  2017  Enero   \n",
              "1       32  Argentina  Mercado Central de Buenos Aires  2017  Enero   \n",
              "2       32  Argentina  Mercado Central de Buenos Aires  2017  Enero   \n",
              "3       32  Argentina  Mercado Central de Buenos Aires  2017  Enero   \n",
              "4       32  Argentina  Mercado Central de Buenos Aires  2017  Enero   \n",
              "5       32  Argentina  Mercado Central de Buenos Aires  2017  Enero   \n",
              "6       32  Argentina  Mercado Central de Buenos Aires  2017  Enero   \n",
              "7       32  Argentina  Mercado Central de Buenos Aires  2017  Enero   \n",
              "8       32  Argentina  Mercado Central de Buenos Aires  2017  Enero   \n",
              "9       32  Argentina  Mercado Central de Buenos Aires  2017  Enero   \n",
              "\n",
              "    producto      variedad     origen  precio_usd_kg moneda_cod   moneda  \n",
              "0      Anana        Perola     Brasil           1.22        USD  Dolares  \n",
              "1     Banana       Cavdich    Ecuador           0.53        USD  Dolares  \n",
              "2     Pomelo     Star Ruby  Argentina           0.86        USD  Dolares  \n",
              "3      Limón        Eureka  Argentina           1.52        USD  Dolares  \n",
              "4    Manzana  Granny Smith  Argentina           1.84        USD  Dolares  \n",
              "5    Manzana  Red Delicius  Argentina           1.46        USD  Dolares  \n",
              "6  Mandarina        Okitzu  Argentina           0.81        USD  Dolares  \n",
              "7      Melón    Rocio Miel  Argentina           0.85        USD  Dolares  \n",
              "8    Naranja    Valenciana  Argentina           0.38        USD  Dolares  \n",
              "9       Pera      Williams  Argentina           0.83        USD  Dolares  "
            ],
            "text/html": [
              "\n",
              "  <div id=\"df-354a2fac-b5f3-4600-9f28-d5488f1d6d1e\" class=\"colab-df-container\">\n",
              "    <div>\n",
              "<style scoped>\n",
              "    .dataframe tbody tr th:only-of-type {\n",
              "        vertical-align: middle;\n",
              "    }\n",
              "\n",
              "    .dataframe tbody tr th {\n",
              "        vertical-align: top;\n",
              "    }\n",
              "\n",
              "    .dataframe thead th {\n",
              "        text-align: right;\n",
              "    }\n",
              "</style>\n",
              "<table border=\"1\" class=\"dataframe\">\n",
              "  <thead>\n",
              "    <tr style=\"text-align: right;\">\n",
              "      <th></th>\n",
              "      <th>pais_id</th>\n",
              "      <th>pais</th>\n",
              "      <th>mercado</th>\n",
              "      <th>año</th>\n",
              "      <th>mes</th>\n",
              "      <th>producto</th>\n",
              "      <th>variedad</th>\n",
              "      <th>origen</th>\n",
              "      <th>precio_usd_kg</th>\n",
              "      <th>moneda_cod</th>\n",
              "      <th>moneda</th>\n",
              "    </tr>\n",
              "  </thead>\n",
              "  <tbody>\n",
              "    <tr>\n",
              "      <th>0</th>\n",
              "      <td>32</td>\n",
              "      <td>Argentina</td>\n",
              "      <td>Mercado Central de Buenos Aires</td>\n",
              "      <td>2017</td>\n",
              "      <td>Enero</td>\n",
              "      <td>Anana</td>\n",
              "      <td>Perola</td>\n",
              "      <td>Brasil</td>\n",
              "      <td>1.22</td>\n",
              "      <td>USD</td>\n",
              "      <td>Dolares</td>\n",
              "    </tr>\n",
              "    <tr>\n",
              "      <th>1</th>\n",
              "      <td>32</td>\n",
              "      <td>Argentina</td>\n",
              "      <td>Mercado Central de Buenos Aires</td>\n",
              "      <td>2017</td>\n",
              "      <td>Enero</td>\n",
              "      <td>Banana</td>\n",
              "      <td>Cavdich</td>\n",
              "      <td>Ecuador</td>\n",
              "      <td>0.53</td>\n",
              "      <td>USD</td>\n",
              "      <td>Dolares</td>\n",
              "    </tr>\n",
              "    <tr>\n",
              "      <th>2</th>\n",
              "      <td>32</td>\n",
              "      <td>Argentina</td>\n",
              "      <td>Mercado Central de Buenos Aires</td>\n",
              "      <td>2017</td>\n",
              "      <td>Enero</td>\n",
              "      <td>Pomelo</td>\n",
              "      <td>Star Ruby</td>\n",
              "      <td>Argentina</td>\n",
              "      <td>0.86</td>\n",
              "      <td>USD</td>\n",
              "      <td>Dolares</td>\n",
              "    </tr>\n",
              "    <tr>\n",
              "      <th>3</th>\n",
              "      <td>32</td>\n",
              "      <td>Argentina</td>\n",
              "      <td>Mercado Central de Buenos Aires</td>\n",
              "      <td>2017</td>\n",
              "      <td>Enero</td>\n",
              "      <td>Limón</td>\n",
              "      <td>Eureka</td>\n",
              "      <td>Argentina</td>\n",
              "      <td>1.52</td>\n",
              "      <td>USD</td>\n",
              "      <td>Dolares</td>\n",
              "    </tr>\n",
              "    <tr>\n",
              "      <th>4</th>\n",
              "      <td>32</td>\n",
              "      <td>Argentina</td>\n",
              "      <td>Mercado Central de Buenos Aires</td>\n",
              "      <td>2017</td>\n",
              "      <td>Enero</td>\n",
              "      <td>Manzana</td>\n",
              "      <td>Granny Smith</td>\n",
              "      <td>Argentina</td>\n",
              "      <td>1.84</td>\n",
              "      <td>USD</td>\n",
              "      <td>Dolares</td>\n",
              "    </tr>\n",
              "    <tr>\n",
              "      <th>5</th>\n",
              "      <td>32</td>\n",
              "      <td>Argentina</td>\n",
              "      <td>Mercado Central de Buenos Aires</td>\n",
              "      <td>2017</td>\n",
              "      <td>Enero</td>\n",
              "      <td>Manzana</td>\n",
              "      <td>Red Delicius</td>\n",
              "      <td>Argentina</td>\n",
              "      <td>1.46</td>\n",
              "      <td>USD</td>\n",
              "      <td>Dolares</td>\n",
              "    </tr>\n",
              "    <tr>\n",
              "      <th>6</th>\n",
              "      <td>32</td>\n",
              "      <td>Argentina</td>\n",
              "      <td>Mercado Central de Buenos Aires</td>\n",
              "      <td>2017</td>\n",
              "      <td>Enero</td>\n",
              "      <td>Mandarina</td>\n",
              "      <td>Okitzu</td>\n",
              "      <td>Argentina</td>\n",
              "      <td>0.81</td>\n",
              "      <td>USD</td>\n",
              "      <td>Dolares</td>\n",
              "    </tr>\n",
              "    <tr>\n",
              "      <th>7</th>\n",
              "      <td>32</td>\n",
              "      <td>Argentina</td>\n",
              "      <td>Mercado Central de Buenos Aires</td>\n",
              "      <td>2017</td>\n",
              "      <td>Enero</td>\n",
              "      <td>Melón</td>\n",
              "      <td>Rocio Miel</td>\n",
              "      <td>Argentina</td>\n",
              "      <td>0.85</td>\n",
              "      <td>USD</td>\n",
              "      <td>Dolares</td>\n",
              "    </tr>\n",
              "    <tr>\n",
              "      <th>8</th>\n",
              "      <td>32</td>\n",
              "      <td>Argentina</td>\n",
              "      <td>Mercado Central de Buenos Aires</td>\n",
              "      <td>2017</td>\n",
              "      <td>Enero</td>\n",
              "      <td>Naranja</td>\n",
              "      <td>Valenciana</td>\n",
              "      <td>Argentina</td>\n",
              "      <td>0.38</td>\n",
              "      <td>USD</td>\n",
              "      <td>Dolares</td>\n",
              "    </tr>\n",
              "    <tr>\n",
              "      <th>9</th>\n",
              "      <td>32</td>\n",
              "      <td>Argentina</td>\n",
              "      <td>Mercado Central de Buenos Aires</td>\n",
              "      <td>2017</td>\n",
              "      <td>Enero</td>\n",
              "      <td>Pera</td>\n",
              "      <td>Williams</td>\n",
              "      <td>Argentina</td>\n",
              "      <td>0.83</td>\n",
              "      <td>USD</td>\n",
              "      <td>Dolares</td>\n",
              "    </tr>\n",
              "  </tbody>\n",
              "</table>\n",
              "</div>\n",
              "    <div class=\"colab-df-buttons\">\n",
              "\n",
              "  <div class=\"colab-df-container\">\n",
              "    <button class=\"colab-df-convert\" onclick=\"convertToInteractive('df-354a2fac-b5f3-4600-9f28-d5488f1d6d1e')\"\n",
              "            title=\"Convert this dataframe to an interactive table.\"\n",
              "            style=\"display:none;\">\n",
              "\n",
              "  <svg xmlns=\"http://www.w3.org/2000/svg\" height=\"24px\" viewBox=\"0 -960 960 960\">\n",
              "    <path d=\"M120-120v-720h720v720H120Zm60-500h600v-160H180v160Zm220 220h160v-160H400v160Zm0 220h160v-160H400v160ZM180-400h160v-160H180v160Zm440 0h160v-160H620v160ZM180-180h160v-160H180v160Zm440 0h160v-160H620v160Z\"/>\n",
              "  </svg>\n",
              "    </button>\n",
              "\n",
              "  <style>\n",
              "    .colab-df-container {\n",
              "      display:flex;\n",
              "      gap: 12px;\n",
              "    }\n",
              "\n",
              "    .colab-df-convert {\n",
              "      background-color: #E8F0FE;\n",
              "      border: none;\n",
              "      border-radius: 50%;\n",
              "      cursor: pointer;\n",
              "      display: none;\n",
              "      fill: #1967D2;\n",
              "      height: 32px;\n",
              "      padding: 0 0 0 0;\n",
              "      width: 32px;\n",
              "    }\n",
              "\n",
              "    .colab-df-convert:hover {\n",
              "      background-color: #E2EBFA;\n",
              "      box-shadow: 0px 1px 2px rgba(60, 64, 67, 0.3), 0px 1px 3px 1px rgba(60, 64, 67, 0.15);\n",
              "      fill: #174EA6;\n",
              "    }\n",
              "\n",
              "    .colab-df-buttons div {\n",
              "      margin-bottom: 4px;\n",
              "    }\n",
              "\n",
              "    [theme=dark] .colab-df-convert {\n",
              "      background-color: #3B4455;\n",
              "      fill: #D2E3FC;\n",
              "    }\n",
              "\n",
              "    [theme=dark] .colab-df-convert:hover {\n",
              "      background-color: #434B5C;\n",
              "      box-shadow: 0px 1px 3px 1px rgba(0, 0, 0, 0.15);\n",
              "      filter: drop-shadow(0px 1px 2px rgba(0, 0, 0, 0.3));\n",
              "      fill: #FFFFFF;\n",
              "    }\n",
              "  </style>\n",
              "\n",
              "    <script>\n",
              "      const buttonEl =\n",
              "        document.querySelector('#df-354a2fac-b5f3-4600-9f28-d5488f1d6d1e button.colab-df-convert');\n",
              "      buttonEl.style.display =\n",
              "        google.colab.kernel.accessAllowed ? 'block' : 'none';\n",
              "\n",
              "      async function convertToInteractive(key) {\n",
              "        const element = document.querySelector('#df-354a2fac-b5f3-4600-9f28-d5488f1d6d1e');\n",
              "        const dataTable =\n",
              "          await google.colab.kernel.invokeFunction('convertToInteractive',\n",
              "                                                    [key], {});\n",
              "        if (!dataTable) return;\n",
              "\n",
              "        const docLinkHtml = 'Like what you see? Visit the ' +\n",
              "          '<a target=\"_blank\" href=https://colab.research.google.com/notebooks/data_table.ipynb>data table notebook</a>'\n",
              "          + ' to learn more about interactive tables.';\n",
              "        element.innerHTML = '';\n",
              "        dataTable['output_type'] = 'display_data';\n",
              "        await google.colab.output.renderOutput(dataTable, element);\n",
              "        const docLink = document.createElement('div');\n",
              "        docLink.innerHTML = docLinkHtml;\n",
              "        element.appendChild(docLink);\n",
              "      }\n",
              "    </script>\n",
              "  </div>\n",
              "\n",
              "\n",
              "<div id=\"df-9e7f1a78-8ecc-46f6-9342-7e666e9b4f8c\">\n",
              "  <button class=\"colab-df-quickchart\" onclick=\"quickchart('df-9e7f1a78-8ecc-46f6-9342-7e666e9b4f8c')\"\n",
              "            title=\"Suggest charts.\"\n",
              "            style=\"display:none;\">\n",
              "\n",
              "<svg xmlns=\"http://www.w3.org/2000/svg\" height=\"24px\"viewBox=\"0 0 24 24\"\n",
              "     width=\"24px\">\n",
              "    <g>\n",
              "        <path d=\"M19 3H5c-1.1 0-2 .9-2 2v14c0 1.1.9 2 2 2h14c1.1 0 2-.9 2-2V5c0-1.1-.9-2-2-2zM9 17H7v-7h2v7zm4 0h-2V7h2v10zm4 0h-2v-4h2v4z\"/>\n",
              "    </g>\n",
              "</svg>\n",
              "  </button>\n",
              "\n",
              "<style>\n",
              "  .colab-df-quickchart {\n",
              "      --bg-color: #E8F0FE;\n",
              "      --fill-color: #1967D2;\n",
              "      --hover-bg-color: #E2EBFA;\n",
              "      --hover-fill-color: #174EA6;\n",
              "      --disabled-fill-color: #AAA;\n",
              "      --disabled-bg-color: #DDD;\n",
              "  }\n",
              "\n",
              "  [theme=dark] .colab-df-quickchart {\n",
              "      --bg-color: #3B4455;\n",
              "      --fill-color: #D2E3FC;\n",
              "      --hover-bg-color: #434B5C;\n",
              "      --hover-fill-color: #FFFFFF;\n",
              "      --disabled-bg-color: #3B4455;\n",
              "      --disabled-fill-color: #666;\n",
              "  }\n",
              "\n",
              "  .colab-df-quickchart {\n",
              "    background-color: var(--bg-color);\n",
              "    border: none;\n",
              "    border-radius: 50%;\n",
              "    cursor: pointer;\n",
              "    display: none;\n",
              "    fill: var(--fill-color);\n",
              "    height: 32px;\n",
              "    padding: 0;\n",
              "    width: 32px;\n",
              "  }\n",
              "\n",
              "  .colab-df-quickchart:hover {\n",
              "    background-color: var(--hover-bg-color);\n",
              "    box-shadow: 0 1px 2px rgba(60, 64, 67, 0.3), 0 1px 3px 1px rgba(60, 64, 67, 0.15);\n",
              "    fill: var(--button-hover-fill-color);\n",
              "  }\n",
              "\n",
              "  .colab-df-quickchart-complete:disabled,\n",
              "  .colab-df-quickchart-complete:disabled:hover {\n",
              "    background-color: var(--disabled-bg-color);\n",
              "    fill: var(--disabled-fill-color);\n",
              "    box-shadow: none;\n",
              "  }\n",
              "\n",
              "  .colab-df-spinner {\n",
              "    border: 2px solid var(--fill-color);\n",
              "    border-color: transparent;\n",
              "    border-bottom-color: var(--fill-color);\n",
              "    animation:\n",
              "      spin 1s steps(1) infinite;\n",
              "  }\n",
              "\n",
              "  @keyframes spin {\n",
              "    0% {\n",
              "      border-color: transparent;\n",
              "      border-bottom-color: var(--fill-color);\n",
              "      border-left-color: var(--fill-color);\n",
              "    }\n",
              "    20% {\n",
              "      border-color: transparent;\n",
              "      border-left-color: var(--fill-color);\n",
              "      border-top-color: var(--fill-color);\n",
              "    }\n",
              "    30% {\n",
              "      border-color: transparent;\n",
              "      border-left-color: var(--fill-color);\n",
              "      border-top-color: var(--fill-color);\n",
              "      border-right-color: var(--fill-color);\n",
              "    }\n",
              "    40% {\n",
              "      border-color: transparent;\n",
              "      border-right-color: var(--fill-color);\n",
              "      border-top-color: var(--fill-color);\n",
              "    }\n",
              "    60% {\n",
              "      border-color: transparent;\n",
              "      border-right-color: var(--fill-color);\n",
              "    }\n",
              "    80% {\n",
              "      border-color: transparent;\n",
              "      border-right-color: var(--fill-color);\n",
              "      border-bottom-color: var(--fill-color);\n",
              "    }\n",
              "    90% {\n",
              "      border-color: transparent;\n",
              "      border-bottom-color: var(--fill-color);\n",
              "    }\n",
              "  }\n",
              "</style>\n",
              "\n",
              "  <script>\n",
              "    async function quickchart(key) {\n",
              "      const quickchartButtonEl =\n",
              "        document.querySelector('#' + key + ' button');\n",
              "      quickchartButtonEl.disabled = true;  // To prevent multiple clicks.\n",
              "      quickchartButtonEl.classList.add('colab-df-spinner');\n",
              "      try {\n",
              "        const charts = await google.colab.kernel.invokeFunction(\n",
              "            'suggestCharts', [key], {});\n",
              "      } catch (error) {\n",
              "        console.error('Error during call to suggestCharts:', error);\n",
              "      }\n",
              "      quickchartButtonEl.classList.remove('colab-df-spinner');\n",
              "      quickchartButtonEl.classList.add('colab-df-quickchart-complete');\n",
              "    }\n",
              "    (() => {\n",
              "      let quickchartButtonEl =\n",
              "        document.querySelector('#df-9e7f1a78-8ecc-46f6-9342-7e666e9b4f8c button');\n",
              "      quickchartButtonEl.style.display =\n",
              "        google.colab.kernel.accessAllowed ? 'block' : 'none';\n",
              "    })();\n",
              "  </script>\n",
              "</div>\n",
              "    </div>\n",
              "  </div>\n"
            ]
          },
          "metadata": {},
          "execution_count": 4
        }
      ]
    },
    {
      "cell_type": "code",
      "source": [
        "df_mercadocentral.info()"
      ],
      "metadata": {
        "colab": {
          "base_uri": "https://localhost:8080/"
        },
        "id": "x44cJCWp5cDe",
        "outputId": "94722fb6-63a9-414d-eb21-f2b0e8f4a5a8"
      },
      "execution_count": 5,
      "outputs": [
        {
          "output_type": "stream",
          "name": "stdout",
          "text": [
            "<class 'pandas.core.frame.DataFrame'>\n",
            "RangeIndex: 828 entries, 0 to 827\n",
            "Data columns (total 11 columns):\n",
            " #   Column         Non-Null Count  Dtype  \n",
            "---  ------         --------------  -----  \n",
            " 0   pais_id        828 non-null    int64  \n",
            " 1   pais           828 non-null    object \n",
            " 2   mercado        828 non-null    object \n",
            " 3   año            828 non-null    int64  \n",
            " 4   mes            828 non-null    object \n",
            " 5   producto       828 non-null    object \n",
            " 6   variedad       828 non-null    object \n",
            " 7   origen         828 non-null    object \n",
            " 8   precio_usd_kg  767 non-null    float64\n",
            " 9   moneda_cod     828 non-null    object \n",
            " 10  moneda         828 non-null    object \n",
            "dtypes: float64(1), int64(2), object(8)\n",
            "memory usage: 71.3+ KB\n"
          ]
        }
      ]
    },
    {
      "cell_type": "code",
      "source": [
        "df_mercadocentral.tail()"
      ],
      "metadata": {
        "colab": {
          "base_uri": "https://localhost:8080/",
          "height": 293
        },
        "id": "MamsxBs75glW",
        "outputId": "6f201312-d4a9-4f68-9b58-9dda6554581b"
      },
      "execution_count": 6,
      "outputs": [
        {
          "output_type": "execute_result",
          "data": {
            "text/plain": [
              "     pais_id       pais                          mercado   año     mes  \\\n",
              "823       32  Argentina  Mercado Central de Buenos Aires  2018  Agosto   \n",
              "824       32  Argentina  Mercado Central de Buenos Aires  2018  Agosto   \n",
              "825       32  Argentina  Mercado Central de Buenos Aires  2018  Agosto   \n",
              "826       32  Argentina  Mercado Central de Buenos Aires  2018  Agosto   \n",
              "827       32  Argentina  Mercado Central de Buenos Aires  2018  Agosto   \n",
              "\n",
              "      producto       variedad         origen  precio_usd_kg moneda_cod  \\\n",
              "823    Repollo  s/especificar  s/especificar           0.36        USD   \n",
              "824     Tomate  s/especificar  s/especificar           1.15        USD   \n",
              "825  Zanahoria  s/especificar  s/especificar           0.29        USD   \n",
              "826  Zapallito  s/especificar  s/especificar           1.01        USD   \n",
              "827    Zapallo  s/especificar  s/especificar           0.32        USD   \n",
              "\n",
              "      moneda  \n",
              "823  Dolares  \n",
              "824  Dolares  \n",
              "825  Dolares  \n",
              "826  Dolares  \n",
              "827  Dolares  "
            ],
            "text/html": [
              "\n",
              "  <div id=\"df-4b6983d1-a172-4cc4-9d6c-fd04b196fc2c\" class=\"colab-df-container\">\n",
              "    <div>\n",
              "<style scoped>\n",
              "    .dataframe tbody tr th:only-of-type {\n",
              "        vertical-align: middle;\n",
              "    }\n",
              "\n",
              "    .dataframe tbody tr th {\n",
              "        vertical-align: top;\n",
              "    }\n",
              "\n",
              "    .dataframe thead th {\n",
              "        text-align: right;\n",
              "    }\n",
              "</style>\n",
              "<table border=\"1\" class=\"dataframe\">\n",
              "  <thead>\n",
              "    <tr style=\"text-align: right;\">\n",
              "      <th></th>\n",
              "      <th>pais_id</th>\n",
              "      <th>pais</th>\n",
              "      <th>mercado</th>\n",
              "      <th>año</th>\n",
              "      <th>mes</th>\n",
              "      <th>producto</th>\n",
              "      <th>variedad</th>\n",
              "      <th>origen</th>\n",
              "      <th>precio_usd_kg</th>\n",
              "      <th>moneda_cod</th>\n",
              "      <th>moneda</th>\n",
              "    </tr>\n",
              "  </thead>\n",
              "  <tbody>\n",
              "    <tr>\n",
              "      <th>823</th>\n",
              "      <td>32</td>\n",
              "      <td>Argentina</td>\n",
              "      <td>Mercado Central de Buenos Aires</td>\n",
              "      <td>2018</td>\n",
              "      <td>Agosto</td>\n",
              "      <td>Repollo</td>\n",
              "      <td>s/especificar</td>\n",
              "      <td>s/especificar</td>\n",
              "      <td>0.36</td>\n",
              "      <td>USD</td>\n",
              "      <td>Dolares</td>\n",
              "    </tr>\n",
              "    <tr>\n",
              "      <th>824</th>\n",
              "      <td>32</td>\n",
              "      <td>Argentina</td>\n",
              "      <td>Mercado Central de Buenos Aires</td>\n",
              "      <td>2018</td>\n",
              "      <td>Agosto</td>\n",
              "      <td>Tomate</td>\n",
              "      <td>s/especificar</td>\n",
              "      <td>s/especificar</td>\n",
              "      <td>1.15</td>\n",
              "      <td>USD</td>\n",
              "      <td>Dolares</td>\n",
              "    </tr>\n",
              "    <tr>\n",
              "      <th>825</th>\n",
              "      <td>32</td>\n",
              "      <td>Argentina</td>\n",
              "      <td>Mercado Central de Buenos Aires</td>\n",
              "      <td>2018</td>\n",
              "      <td>Agosto</td>\n",
              "      <td>Zanahoria</td>\n",
              "      <td>s/especificar</td>\n",
              "      <td>s/especificar</td>\n",
              "      <td>0.29</td>\n",
              "      <td>USD</td>\n",
              "      <td>Dolares</td>\n",
              "    </tr>\n",
              "    <tr>\n",
              "      <th>826</th>\n",
              "      <td>32</td>\n",
              "      <td>Argentina</td>\n",
              "      <td>Mercado Central de Buenos Aires</td>\n",
              "      <td>2018</td>\n",
              "      <td>Agosto</td>\n",
              "      <td>Zapallito</td>\n",
              "      <td>s/especificar</td>\n",
              "      <td>s/especificar</td>\n",
              "      <td>1.01</td>\n",
              "      <td>USD</td>\n",
              "      <td>Dolares</td>\n",
              "    </tr>\n",
              "    <tr>\n",
              "      <th>827</th>\n",
              "      <td>32</td>\n",
              "      <td>Argentina</td>\n",
              "      <td>Mercado Central de Buenos Aires</td>\n",
              "      <td>2018</td>\n",
              "      <td>Agosto</td>\n",
              "      <td>Zapallo</td>\n",
              "      <td>s/especificar</td>\n",
              "      <td>s/especificar</td>\n",
              "      <td>0.32</td>\n",
              "      <td>USD</td>\n",
              "      <td>Dolares</td>\n",
              "    </tr>\n",
              "  </tbody>\n",
              "</table>\n",
              "</div>\n",
              "    <div class=\"colab-df-buttons\">\n",
              "\n",
              "  <div class=\"colab-df-container\">\n",
              "    <button class=\"colab-df-convert\" onclick=\"convertToInteractive('df-4b6983d1-a172-4cc4-9d6c-fd04b196fc2c')\"\n",
              "            title=\"Convert this dataframe to an interactive table.\"\n",
              "            style=\"display:none;\">\n",
              "\n",
              "  <svg xmlns=\"http://www.w3.org/2000/svg\" height=\"24px\" viewBox=\"0 -960 960 960\">\n",
              "    <path d=\"M120-120v-720h720v720H120Zm60-500h600v-160H180v160Zm220 220h160v-160H400v160Zm0 220h160v-160H400v160ZM180-400h160v-160H180v160Zm440 0h160v-160H620v160ZM180-180h160v-160H180v160Zm440 0h160v-160H620v160Z\"/>\n",
              "  </svg>\n",
              "    </button>\n",
              "\n",
              "  <style>\n",
              "    .colab-df-container {\n",
              "      display:flex;\n",
              "      gap: 12px;\n",
              "    }\n",
              "\n",
              "    .colab-df-convert {\n",
              "      background-color: #E8F0FE;\n",
              "      border: none;\n",
              "      border-radius: 50%;\n",
              "      cursor: pointer;\n",
              "      display: none;\n",
              "      fill: #1967D2;\n",
              "      height: 32px;\n",
              "      padding: 0 0 0 0;\n",
              "      width: 32px;\n",
              "    }\n",
              "\n",
              "    .colab-df-convert:hover {\n",
              "      background-color: #E2EBFA;\n",
              "      box-shadow: 0px 1px 2px rgba(60, 64, 67, 0.3), 0px 1px 3px 1px rgba(60, 64, 67, 0.15);\n",
              "      fill: #174EA6;\n",
              "    }\n",
              "\n",
              "    .colab-df-buttons div {\n",
              "      margin-bottom: 4px;\n",
              "    }\n",
              "\n",
              "    [theme=dark] .colab-df-convert {\n",
              "      background-color: #3B4455;\n",
              "      fill: #D2E3FC;\n",
              "    }\n",
              "\n",
              "    [theme=dark] .colab-df-convert:hover {\n",
              "      background-color: #434B5C;\n",
              "      box-shadow: 0px 1px 3px 1px rgba(0, 0, 0, 0.15);\n",
              "      filter: drop-shadow(0px 1px 2px rgba(0, 0, 0, 0.3));\n",
              "      fill: #FFFFFF;\n",
              "    }\n",
              "  </style>\n",
              "\n",
              "    <script>\n",
              "      const buttonEl =\n",
              "        document.querySelector('#df-4b6983d1-a172-4cc4-9d6c-fd04b196fc2c button.colab-df-convert');\n",
              "      buttonEl.style.display =\n",
              "        google.colab.kernel.accessAllowed ? 'block' : 'none';\n",
              "\n",
              "      async function convertToInteractive(key) {\n",
              "        const element = document.querySelector('#df-4b6983d1-a172-4cc4-9d6c-fd04b196fc2c');\n",
              "        const dataTable =\n",
              "          await google.colab.kernel.invokeFunction('convertToInteractive',\n",
              "                                                    [key], {});\n",
              "        if (!dataTable) return;\n",
              "\n",
              "        const docLinkHtml = 'Like what you see? Visit the ' +\n",
              "          '<a target=\"_blank\" href=https://colab.research.google.com/notebooks/data_table.ipynb>data table notebook</a>'\n",
              "          + ' to learn more about interactive tables.';\n",
              "        element.innerHTML = '';\n",
              "        dataTable['output_type'] = 'display_data';\n",
              "        await google.colab.output.renderOutput(dataTable, element);\n",
              "        const docLink = document.createElement('div');\n",
              "        docLink.innerHTML = docLinkHtml;\n",
              "        element.appendChild(docLink);\n",
              "      }\n",
              "    </script>\n",
              "  </div>\n",
              "\n",
              "\n",
              "<div id=\"df-c935e426-993e-494d-bc94-ca82587d4bd7\">\n",
              "  <button class=\"colab-df-quickchart\" onclick=\"quickchart('df-c935e426-993e-494d-bc94-ca82587d4bd7')\"\n",
              "            title=\"Suggest charts.\"\n",
              "            style=\"display:none;\">\n",
              "\n",
              "<svg xmlns=\"http://www.w3.org/2000/svg\" height=\"24px\"viewBox=\"0 0 24 24\"\n",
              "     width=\"24px\">\n",
              "    <g>\n",
              "        <path d=\"M19 3H5c-1.1 0-2 .9-2 2v14c0 1.1.9 2 2 2h14c1.1 0 2-.9 2-2V5c0-1.1-.9-2-2-2zM9 17H7v-7h2v7zm4 0h-2V7h2v10zm4 0h-2v-4h2v4z\"/>\n",
              "    </g>\n",
              "</svg>\n",
              "  </button>\n",
              "\n",
              "<style>\n",
              "  .colab-df-quickchart {\n",
              "      --bg-color: #E8F0FE;\n",
              "      --fill-color: #1967D2;\n",
              "      --hover-bg-color: #E2EBFA;\n",
              "      --hover-fill-color: #174EA6;\n",
              "      --disabled-fill-color: #AAA;\n",
              "      --disabled-bg-color: #DDD;\n",
              "  }\n",
              "\n",
              "  [theme=dark] .colab-df-quickchart {\n",
              "      --bg-color: #3B4455;\n",
              "      --fill-color: #D2E3FC;\n",
              "      --hover-bg-color: #434B5C;\n",
              "      --hover-fill-color: #FFFFFF;\n",
              "      --disabled-bg-color: #3B4455;\n",
              "      --disabled-fill-color: #666;\n",
              "  }\n",
              "\n",
              "  .colab-df-quickchart {\n",
              "    background-color: var(--bg-color);\n",
              "    border: none;\n",
              "    border-radius: 50%;\n",
              "    cursor: pointer;\n",
              "    display: none;\n",
              "    fill: var(--fill-color);\n",
              "    height: 32px;\n",
              "    padding: 0;\n",
              "    width: 32px;\n",
              "  }\n",
              "\n",
              "  .colab-df-quickchart:hover {\n",
              "    background-color: var(--hover-bg-color);\n",
              "    box-shadow: 0 1px 2px rgba(60, 64, 67, 0.3), 0 1px 3px 1px rgba(60, 64, 67, 0.15);\n",
              "    fill: var(--button-hover-fill-color);\n",
              "  }\n",
              "\n",
              "  .colab-df-quickchart-complete:disabled,\n",
              "  .colab-df-quickchart-complete:disabled:hover {\n",
              "    background-color: var(--disabled-bg-color);\n",
              "    fill: var(--disabled-fill-color);\n",
              "    box-shadow: none;\n",
              "  }\n",
              "\n",
              "  .colab-df-spinner {\n",
              "    border: 2px solid var(--fill-color);\n",
              "    border-color: transparent;\n",
              "    border-bottom-color: var(--fill-color);\n",
              "    animation:\n",
              "      spin 1s steps(1) infinite;\n",
              "  }\n",
              "\n",
              "  @keyframes spin {\n",
              "    0% {\n",
              "      border-color: transparent;\n",
              "      border-bottom-color: var(--fill-color);\n",
              "      border-left-color: var(--fill-color);\n",
              "    }\n",
              "    20% {\n",
              "      border-color: transparent;\n",
              "      border-left-color: var(--fill-color);\n",
              "      border-top-color: var(--fill-color);\n",
              "    }\n",
              "    30% {\n",
              "      border-color: transparent;\n",
              "      border-left-color: var(--fill-color);\n",
              "      border-top-color: var(--fill-color);\n",
              "      border-right-color: var(--fill-color);\n",
              "    }\n",
              "    40% {\n",
              "      border-color: transparent;\n",
              "      border-right-color: var(--fill-color);\n",
              "      border-top-color: var(--fill-color);\n",
              "    }\n",
              "    60% {\n",
              "      border-color: transparent;\n",
              "      border-right-color: var(--fill-color);\n",
              "    }\n",
              "    80% {\n",
              "      border-color: transparent;\n",
              "      border-right-color: var(--fill-color);\n",
              "      border-bottom-color: var(--fill-color);\n",
              "    }\n",
              "    90% {\n",
              "      border-color: transparent;\n",
              "      border-bottom-color: var(--fill-color);\n",
              "    }\n",
              "  }\n",
              "</style>\n",
              "\n",
              "  <script>\n",
              "    async function quickchart(key) {\n",
              "      const quickchartButtonEl =\n",
              "        document.querySelector('#' + key + ' button');\n",
              "      quickchartButtonEl.disabled = true;  // To prevent multiple clicks.\n",
              "      quickchartButtonEl.classList.add('colab-df-spinner');\n",
              "      try {\n",
              "        const charts = await google.colab.kernel.invokeFunction(\n",
              "            'suggestCharts', [key], {});\n",
              "      } catch (error) {\n",
              "        console.error('Error during call to suggestCharts:', error);\n",
              "      }\n",
              "      quickchartButtonEl.classList.remove('colab-df-spinner');\n",
              "      quickchartButtonEl.classList.add('colab-df-quickchart-complete');\n",
              "    }\n",
              "    (() => {\n",
              "      let quickchartButtonEl =\n",
              "        document.querySelector('#df-c935e426-993e-494d-bc94-ca82587d4bd7 button');\n",
              "      quickchartButtonEl.style.display =\n",
              "        google.colab.kernel.accessAllowed ? 'block' : 'none';\n",
              "    })();\n",
              "  </script>\n",
              "</div>\n",
              "    </div>\n",
              "  </div>\n"
            ]
          },
          "metadata": {},
          "execution_count": 6
        }
      ]
    },
    {
      "cell_type": "code",
      "source": [
        "df_mercadocentral.describe()"
      ],
      "metadata": {
        "colab": {
          "base_uri": "https://localhost:8080/",
          "height": 300
        },
        "id": "3yz8yGK55wO1",
        "outputId": "e90d9619-c877-43c9-e4ea-c970aaee731f"
      },
      "execution_count": 7,
      "outputs": [
        {
          "output_type": "execute_result",
          "data": {
            "text/plain": [
              "       pais_id          año  precio_usd_kg\n",
              "count    828.0   828.000000     767.000000\n",
              "mean      32.0  2017.376812       1.262360\n",
              "std        0.0     0.484880       1.437011\n",
              "min       32.0  2017.000000       0.000000\n",
              "25%       32.0  2017.000000       0.470000\n",
              "50%       32.0  2017.000000       0.860000\n",
              "75%       32.0  2018.000000       1.460000\n",
              "max       32.0  2018.000000      11.230000"
            ],
            "text/html": [
              "\n",
              "  <div id=\"df-5f3eb610-31b8-41f3-972e-2276c0051624\" class=\"colab-df-container\">\n",
              "    <div>\n",
              "<style scoped>\n",
              "    .dataframe tbody tr th:only-of-type {\n",
              "        vertical-align: middle;\n",
              "    }\n",
              "\n",
              "    .dataframe tbody tr th {\n",
              "        vertical-align: top;\n",
              "    }\n",
              "\n",
              "    .dataframe thead th {\n",
              "        text-align: right;\n",
              "    }\n",
              "</style>\n",
              "<table border=\"1\" class=\"dataframe\">\n",
              "  <thead>\n",
              "    <tr style=\"text-align: right;\">\n",
              "      <th></th>\n",
              "      <th>pais_id</th>\n",
              "      <th>año</th>\n",
              "      <th>precio_usd_kg</th>\n",
              "    </tr>\n",
              "  </thead>\n",
              "  <tbody>\n",
              "    <tr>\n",
              "      <th>count</th>\n",
              "      <td>828.0</td>\n",
              "      <td>828.000000</td>\n",
              "      <td>767.000000</td>\n",
              "    </tr>\n",
              "    <tr>\n",
              "      <th>mean</th>\n",
              "      <td>32.0</td>\n",
              "      <td>2017.376812</td>\n",
              "      <td>1.262360</td>\n",
              "    </tr>\n",
              "    <tr>\n",
              "      <th>std</th>\n",
              "      <td>0.0</td>\n",
              "      <td>0.484880</td>\n",
              "      <td>1.437011</td>\n",
              "    </tr>\n",
              "    <tr>\n",
              "      <th>min</th>\n",
              "      <td>32.0</td>\n",
              "      <td>2017.000000</td>\n",
              "      <td>0.000000</td>\n",
              "    </tr>\n",
              "    <tr>\n",
              "      <th>25%</th>\n",
              "      <td>32.0</td>\n",
              "      <td>2017.000000</td>\n",
              "      <td>0.470000</td>\n",
              "    </tr>\n",
              "    <tr>\n",
              "      <th>50%</th>\n",
              "      <td>32.0</td>\n",
              "      <td>2017.000000</td>\n",
              "      <td>0.860000</td>\n",
              "    </tr>\n",
              "    <tr>\n",
              "      <th>75%</th>\n",
              "      <td>32.0</td>\n",
              "      <td>2018.000000</td>\n",
              "      <td>1.460000</td>\n",
              "    </tr>\n",
              "    <tr>\n",
              "      <th>max</th>\n",
              "      <td>32.0</td>\n",
              "      <td>2018.000000</td>\n",
              "      <td>11.230000</td>\n",
              "    </tr>\n",
              "  </tbody>\n",
              "</table>\n",
              "</div>\n",
              "    <div class=\"colab-df-buttons\">\n",
              "\n",
              "  <div class=\"colab-df-container\">\n",
              "    <button class=\"colab-df-convert\" onclick=\"convertToInteractive('df-5f3eb610-31b8-41f3-972e-2276c0051624')\"\n",
              "            title=\"Convert this dataframe to an interactive table.\"\n",
              "            style=\"display:none;\">\n",
              "\n",
              "  <svg xmlns=\"http://www.w3.org/2000/svg\" height=\"24px\" viewBox=\"0 -960 960 960\">\n",
              "    <path d=\"M120-120v-720h720v720H120Zm60-500h600v-160H180v160Zm220 220h160v-160H400v160Zm0 220h160v-160H400v160ZM180-400h160v-160H180v160Zm440 0h160v-160H620v160ZM180-180h160v-160H180v160Zm440 0h160v-160H620v160Z\"/>\n",
              "  </svg>\n",
              "    </button>\n",
              "\n",
              "  <style>\n",
              "    .colab-df-container {\n",
              "      display:flex;\n",
              "      gap: 12px;\n",
              "    }\n",
              "\n",
              "    .colab-df-convert {\n",
              "      background-color: #E8F0FE;\n",
              "      border: none;\n",
              "      border-radius: 50%;\n",
              "      cursor: pointer;\n",
              "      display: none;\n",
              "      fill: #1967D2;\n",
              "      height: 32px;\n",
              "      padding: 0 0 0 0;\n",
              "      width: 32px;\n",
              "    }\n",
              "\n",
              "    .colab-df-convert:hover {\n",
              "      background-color: #E2EBFA;\n",
              "      box-shadow: 0px 1px 2px rgba(60, 64, 67, 0.3), 0px 1px 3px 1px rgba(60, 64, 67, 0.15);\n",
              "      fill: #174EA6;\n",
              "    }\n",
              "\n",
              "    .colab-df-buttons div {\n",
              "      margin-bottom: 4px;\n",
              "    }\n",
              "\n",
              "    [theme=dark] .colab-df-convert {\n",
              "      background-color: #3B4455;\n",
              "      fill: #D2E3FC;\n",
              "    }\n",
              "\n",
              "    [theme=dark] .colab-df-convert:hover {\n",
              "      background-color: #434B5C;\n",
              "      box-shadow: 0px 1px 3px 1px rgba(0, 0, 0, 0.15);\n",
              "      filter: drop-shadow(0px 1px 2px rgba(0, 0, 0, 0.3));\n",
              "      fill: #FFFFFF;\n",
              "    }\n",
              "  </style>\n",
              "\n",
              "    <script>\n",
              "      const buttonEl =\n",
              "        document.querySelector('#df-5f3eb610-31b8-41f3-972e-2276c0051624 button.colab-df-convert');\n",
              "      buttonEl.style.display =\n",
              "        google.colab.kernel.accessAllowed ? 'block' : 'none';\n",
              "\n",
              "      async function convertToInteractive(key) {\n",
              "        const element = document.querySelector('#df-5f3eb610-31b8-41f3-972e-2276c0051624');\n",
              "        const dataTable =\n",
              "          await google.colab.kernel.invokeFunction('convertToInteractive',\n",
              "                                                    [key], {});\n",
              "        if (!dataTable) return;\n",
              "\n",
              "        const docLinkHtml = 'Like what you see? Visit the ' +\n",
              "          '<a target=\"_blank\" href=https://colab.research.google.com/notebooks/data_table.ipynb>data table notebook</a>'\n",
              "          + ' to learn more about interactive tables.';\n",
              "        element.innerHTML = '';\n",
              "        dataTable['output_type'] = 'display_data';\n",
              "        await google.colab.output.renderOutput(dataTable, element);\n",
              "        const docLink = document.createElement('div');\n",
              "        docLink.innerHTML = docLinkHtml;\n",
              "        element.appendChild(docLink);\n",
              "      }\n",
              "    </script>\n",
              "  </div>\n",
              "\n",
              "\n",
              "<div id=\"df-d5d09392-2186-422d-98d7-5bbe48d6e50a\">\n",
              "  <button class=\"colab-df-quickchart\" onclick=\"quickchart('df-d5d09392-2186-422d-98d7-5bbe48d6e50a')\"\n",
              "            title=\"Suggest charts.\"\n",
              "            style=\"display:none;\">\n",
              "\n",
              "<svg xmlns=\"http://www.w3.org/2000/svg\" height=\"24px\"viewBox=\"0 0 24 24\"\n",
              "     width=\"24px\">\n",
              "    <g>\n",
              "        <path d=\"M19 3H5c-1.1 0-2 .9-2 2v14c0 1.1.9 2 2 2h14c1.1 0 2-.9 2-2V5c0-1.1-.9-2-2-2zM9 17H7v-7h2v7zm4 0h-2V7h2v10zm4 0h-2v-4h2v4z\"/>\n",
              "    </g>\n",
              "</svg>\n",
              "  </button>\n",
              "\n",
              "<style>\n",
              "  .colab-df-quickchart {\n",
              "      --bg-color: #E8F0FE;\n",
              "      --fill-color: #1967D2;\n",
              "      --hover-bg-color: #E2EBFA;\n",
              "      --hover-fill-color: #174EA6;\n",
              "      --disabled-fill-color: #AAA;\n",
              "      --disabled-bg-color: #DDD;\n",
              "  }\n",
              "\n",
              "  [theme=dark] .colab-df-quickchart {\n",
              "      --bg-color: #3B4455;\n",
              "      --fill-color: #D2E3FC;\n",
              "      --hover-bg-color: #434B5C;\n",
              "      --hover-fill-color: #FFFFFF;\n",
              "      --disabled-bg-color: #3B4455;\n",
              "      --disabled-fill-color: #666;\n",
              "  }\n",
              "\n",
              "  .colab-df-quickchart {\n",
              "    background-color: var(--bg-color);\n",
              "    border: none;\n",
              "    border-radius: 50%;\n",
              "    cursor: pointer;\n",
              "    display: none;\n",
              "    fill: var(--fill-color);\n",
              "    height: 32px;\n",
              "    padding: 0;\n",
              "    width: 32px;\n",
              "  }\n",
              "\n",
              "  .colab-df-quickchart:hover {\n",
              "    background-color: var(--hover-bg-color);\n",
              "    box-shadow: 0 1px 2px rgba(60, 64, 67, 0.3), 0 1px 3px 1px rgba(60, 64, 67, 0.15);\n",
              "    fill: var(--button-hover-fill-color);\n",
              "  }\n",
              "\n",
              "  .colab-df-quickchart-complete:disabled,\n",
              "  .colab-df-quickchart-complete:disabled:hover {\n",
              "    background-color: var(--disabled-bg-color);\n",
              "    fill: var(--disabled-fill-color);\n",
              "    box-shadow: none;\n",
              "  }\n",
              "\n",
              "  .colab-df-spinner {\n",
              "    border: 2px solid var(--fill-color);\n",
              "    border-color: transparent;\n",
              "    border-bottom-color: var(--fill-color);\n",
              "    animation:\n",
              "      spin 1s steps(1) infinite;\n",
              "  }\n",
              "\n",
              "  @keyframes spin {\n",
              "    0% {\n",
              "      border-color: transparent;\n",
              "      border-bottom-color: var(--fill-color);\n",
              "      border-left-color: var(--fill-color);\n",
              "    }\n",
              "    20% {\n",
              "      border-color: transparent;\n",
              "      border-left-color: var(--fill-color);\n",
              "      border-top-color: var(--fill-color);\n",
              "    }\n",
              "    30% {\n",
              "      border-color: transparent;\n",
              "      border-left-color: var(--fill-color);\n",
              "      border-top-color: var(--fill-color);\n",
              "      border-right-color: var(--fill-color);\n",
              "    }\n",
              "    40% {\n",
              "      border-color: transparent;\n",
              "      border-right-color: var(--fill-color);\n",
              "      border-top-color: var(--fill-color);\n",
              "    }\n",
              "    60% {\n",
              "      border-color: transparent;\n",
              "      border-right-color: var(--fill-color);\n",
              "    }\n",
              "    80% {\n",
              "      border-color: transparent;\n",
              "      border-right-color: var(--fill-color);\n",
              "      border-bottom-color: var(--fill-color);\n",
              "    }\n",
              "    90% {\n",
              "      border-color: transparent;\n",
              "      border-bottom-color: var(--fill-color);\n",
              "    }\n",
              "  }\n",
              "</style>\n",
              "\n",
              "  <script>\n",
              "    async function quickchart(key) {\n",
              "      const quickchartButtonEl =\n",
              "        document.querySelector('#' + key + ' button');\n",
              "      quickchartButtonEl.disabled = true;  // To prevent multiple clicks.\n",
              "      quickchartButtonEl.classList.add('colab-df-spinner');\n",
              "      try {\n",
              "        const charts = await google.colab.kernel.invokeFunction(\n",
              "            'suggestCharts', [key], {});\n",
              "      } catch (error) {\n",
              "        console.error('Error during call to suggestCharts:', error);\n",
              "      }\n",
              "      quickchartButtonEl.classList.remove('colab-df-spinner');\n",
              "      quickchartButtonEl.classList.add('colab-df-quickchart-complete');\n",
              "    }\n",
              "    (() => {\n",
              "      let quickchartButtonEl =\n",
              "        document.querySelector('#df-d5d09392-2186-422d-98d7-5bbe48d6e50a button');\n",
              "      quickchartButtonEl.style.display =\n",
              "        google.colab.kernel.accessAllowed ? 'block' : 'none';\n",
              "    })();\n",
              "  </script>\n",
              "</div>\n",
              "    </div>\n",
              "  </div>\n"
            ]
          },
          "metadata": {},
          "execution_count": 7
        }
      ]
    },
    {
      "cell_type": "markdown",
      "source": [
        "##3- Aplicar PROCESO DE LIMPIEZA"
      ],
      "metadata": {
        "id": "sjms7ns6zW-9"
      }
    },
    {
      "cell_type": "code",
      "source": [
        "#Apliqué procesos de limpieza unos pasos más adelante"
      ],
      "metadata": {
        "id": "xxgjEruPzjL_"
      },
      "execution_count": 164,
      "outputs": []
    },
    {
      "cell_type": "markdown",
      "source": [
        "##4- Aplicar PROCESO para DEFINIR tu X e Y para APLICAR REGRESION LINEAL Y LOGISTICA segun el DATA SET a las variables que consideres adecuadas. RECUERDA ESTANDARIZAR LAS VARIABLES PARA CORRELACIÓN LOGÍSTICA."
      ],
      "metadata": {
        "id": "hSzNV8PczkA2"
      }
    },
    {
      "cell_type": "code",
      "source": [
        "#Quiero saber si se repiten los productos y cuantas veces\n",
        "cantidad_productos = df_mercadocentral['producto'].nunique()\n",
        "print(\"Cantidad de productos:\", cantidad_productos)"
      ],
      "metadata": {
        "id": "jFO4jxOYz7IM",
        "colab": {
          "base_uri": "https://localhost:8080/"
        },
        "outputId": "53c9ba22-d830-4531-909f-637368576536"
      },
      "execution_count": 8,
      "outputs": [
        {
          "output_type": "stream",
          "name": "stdout",
          "text": [
            "Cantidad de productos: 42\n"
          ]
        }
      ]
    },
    {
      "cell_type": "code",
      "source": [
        "#Quiero saber frecuencia de cada producto\n",
        "frecuencia_productos = df_mercadocentral['producto'].value_counts()\n",
        "print(\"Frecuencia de productos:\", frecuencia_productos)"
      ],
      "metadata": {
        "colab": {
          "base_uri": "https://localhost:8080/"
        },
        "id": "lruaZlEC7dls",
        "outputId": "491a3bb4-b9c2-4718-c657-c97c2fc873af"
      },
      "execution_count": 9,
      "outputs": [
        {
          "output_type": "stream",
          "name": "stdout",
          "text": [
            "Frecuencia de productos: Tomate       44\n",
            "Manzana      32\n",
            "Anana        20\n",
            "Pepino       20\n",
            "Brocoli      20\n",
            "Cebolla      20\n",
            "Chaucha      20\n",
            "Choclo       20\n",
            "Epinaca      20\n",
            "Lechuga      20\n",
            "Papa         20\n",
            "Pimiento     20\n",
            "Perejil      20\n",
            "Banana       20\n",
            "Radicheta    20\n",
            "Remolacha    20\n",
            "Repollo      20\n",
            "Zanahoria    20\n",
            "Zapallito    20\n",
            "Zapallo      20\n",
            "Berenjena    20\n",
            "Batata       20\n",
            "Arveja       20\n",
            "Apio         20\n",
            "Limón        20\n",
            "Mandarina    20\n",
            "Melón        20\n",
            "Naranja      20\n",
            "Pera         20\n",
            "Uva          20\n",
            "Pomelo       20\n",
            "Durazno      20\n",
            "Frutilla     20\n",
            "Kiwi         20\n",
            "Frambuesa    20\n",
            "Acelga       20\n",
            "Ajo          20\n",
            "Albahaca     20\n",
            "Ciruela      12\n",
            "PALTA         8\n",
            "Palta         8\n",
            "Cereza        4\n",
            "Name: producto, dtype: int64\n"
          ]
        }
      ]
    },
    {
      "cell_type": "code",
      "source": [
        "nuevo_df_tomate = df_mercadocentral[df_mercadocentral['producto'] == 'Tomate']\n",
        "print(nuevo_df_tomate.head(10))\n"
      ],
      "metadata": {
        "colab": {
          "base_uri": "https://localhost:8080/"
        },
        "id": "IHs1eLxKDrcB",
        "outputId": "3a56f682-ffed-44dc-9017-796aa94e2ae6"
      },
      "execution_count": 10,
      "outputs": [
        {
          "output_type": "stream",
          "name": "stdout",
          "text": [
            "     pais_id       pais                          mercado   año      mes  \\\n",
            "37        32  Argentina  Mercado Central de Buenos Aires  2017    Enero   \n",
            "38        32  Argentina  Mercado Central de Buenos Aires  2017    Enero   \n",
            "39        32  Argentina  Mercado Central de Buenos Aires  2017    Enero   \n",
            "80        32  Argentina  Mercado Central de Buenos Aires  2017  Febrero   \n",
            "81        32  Argentina  Mercado Central de Buenos Aires  2017  Febrero   \n",
            "82        32  Argentina  Mercado Central de Buenos Aires  2017  Febrero   \n",
            "123       32  Argentina  Mercado Central de Buenos Aires  2017    Marzo   \n",
            "124       32  Argentina  Mercado Central de Buenos Aires  2017    Marzo   \n",
            "125       32  Argentina  Mercado Central de Buenos Aires  2017    Marzo   \n",
            "166       32  Argentina  Mercado Central de Buenos Aires  2017    Abril   \n",
            "\n",
            "    producto variedad     origen  precio_usd_kg moneda_cod   moneda  \n",
            "37    Tomate   Cherry  Argentina           1.02        USD  Dolares  \n",
            "38    Tomate   Perita  Argentina           0.55        USD  Dolares  \n",
            "39    Tomate  Redondo  Argentina           0.54        USD  Dolares  \n",
            "80    Tomate   Cherry  Argentina           1.85        USD  Dolares  \n",
            "81    Tomate   Perita  Argentina           0.67        USD  Dolares  \n",
            "82    Tomate  Redondo  Argentina           0.71        USD  Dolares  \n",
            "123   Tomate   Cherry  Argentina           2.55        USD  Dolares  \n",
            "124   Tomate   Perita  Argentina           0.74        USD  Dolares  \n",
            "125   Tomate  Redondo  Argentina           0.71        USD  Dolares  \n",
            "166   Tomate   Cherry  Argentina           2.12        USD  Dolares  \n"
          ]
        }
      ]
    },
    {
      "cell_type": "code",
      "source": [
        "#Quiero saber frecuencia de cada variedad\n",
        "frecuencia_tomate_variedad = nuevo_df_tomate['variedad'].value_counts()\n",
        "print(\"Frecuencia de tomate variedad:\", frecuencia_tomate_variedad)"
      ],
      "metadata": {
        "colab": {
          "base_uri": "https://localhost:8080/"
        },
        "id": "O5V3kOFaEgjI",
        "outputId": "cd2a20a3-5fbf-4fdc-8973-2c5242f00bfd"
      },
      "execution_count": 11,
      "outputs": [
        {
          "output_type": "stream",
          "name": "stdout",
          "text": [
            "Frecuencia de tomate variedad: Cherry           12\n",
            "Perita           12\n",
            "Redondo          12\n",
            "s/especificar     8\n",
            "Name: variedad, dtype: int64\n"
          ]
        }
      ]
    },
    {
      "cell_type": "code",
      "source": [
        "#Creo un nuevo df de Tomate Cherry\n",
        "nuevo_df_tomate_cherry = nuevo_df_tomate[nuevo_df_tomate['variedad'] == 'Cherry']\n",
        "print(nuevo_df_tomate_cherry.head(10))"
      ],
      "metadata": {
        "colab": {
          "base_uri": "https://localhost:8080/"
        },
        "id": "e8moS2c5Ea0o",
        "outputId": "eda72242-d715-4131-d39a-5a12260b4e0c"
      },
      "execution_count": 12,
      "outputs": [
        {
          "output_type": "stream",
          "name": "stdout",
          "text": [
            "     pais_id       pais                          mercado   año         mes  \\\n",
            "37        32  Argentina  Mercado Central de Buenos Aires  2017       Enero   \n",
            "80        32  Argentina  Mercado Central de Buenos Aires  2017     Febrero   \n",
            "123       32  Argentina  Mercado Central de Buenos Aires  2017       Marzo   \n",
            "166       32  Argentina  Mercado Central de Buenos Aires  2017       Abril   \n",
            "209       32  Argentina  Mercado Central de Buenos Aires  2017        Mayo   \n",
            "252       32  Argentina  Mercado Central de Buenos Aires  2017       Junio   \n",
            "295       32  Argentina  Mercado Central de Buenos Aires  2017       Julio   \n",
            "338       32  Argentina  Mercado Central de Buenos Aires  2017      Agosto   \n",
            "381       32  Argentina  Mercado Central de Buenos Aires  2017  Septiembre   \n",
            "424       32  Argentina  Mercado Central de Buenos Aires  2017     Octubre   \n",
            "\n",
            "    producto variedad     origen  precio_usd_kg moneda_cod   moneda  \n",
            "37    Tomate   Cherry  Argentina           1.02        USD  Dolares  \n",
            "80    Tomate   Cherry  Argentina           1.85        USD  Dolares  \n",
            "123   Tomate   Cherry  Argentina           2.55        USD  Dolares  \n",
            "166   Tomate   Cherry  Argentina           2.12        USD  Dolares  \n",
            "209   Tomate   Cherry  Argentina           1.41        USD  Dolares  \n",
            "252   Tomate   Cherry  Argentina           1.50        USD  Dolares  \n",
            "295   Tomate   Cherry  Argentina           1.28        USD  Dolares  \n",
            "338   Tomate   Cherry  Argentina           2.23        USD  Dolares  \n",
            "381   Tomate   Cherry  Argentina           3.15        USD  Dolares  \n",
            "424   Tomate   Cherry  Argentina           2.73        USD  Dolares  \n"
          ]
        }
      ]
    },
    {
      "cell_type": "code",
      "source": [
        "nuevo_df_tomate_cherry['mes'] = nuevo_df_tomate_cherry['mes'].map({'Enero': 0.0, 'Febrero': 0.076, 'Marzo': 0.152, 'Abril': 0.228, 'Mayo': 0.304, 'Junio': 0.38, 'Julio': 0.456, 'Agosto': 0.532,'Septiembre': 0.608, 'Octubre': 0.684, 'Noviembre': 0.76, 'Diciembre': 0.836})\n",
        "nuevo_df_tomate_cherry['añomes'] = (nuevo_df_tomate_cherry['año'] + nuevo_df_tomate_cherry['mes'])\n",
        "print(nuevo_df_tomate_cherry.head(10))\n",
        "print(nuevo_df_tomate_cherry.tail(10))"
      ],
      "metadata": {
        "colab": {
          "base_uri": "https://localhost:8080/"
        },
        "id": "Afi4rGmQWy1q",
        "outputId": "7da8c43b-1c3e-4f9a-8172-8e6fb9a7ae12"
      },
      "execution_count": 13,
      "outputs": [
        {
          "output_type": "stream",
          "name": "stdout",
          "text": [
            "     pais_id       pais                          mercado   año    mes  \\\n",
            "37        32  Argentina  Mercado Central de Buenos Aires  2017  0.000   \n",
            "80        32  Argentina  Mercado Central de Buenos Aires  2017  0.076   \n",
            "123       32  Argentina  Mercado Central de Buenos Aires  2017  0.152   \n",
            "166       32  Argentina  Mercado Central de Buenos Aires  2017  0.228   \n",
            "209       32  Argentina  Mercado Central de Buenos Aires  2017  0.304   \n",
            "252       32  Argentina  Mercado Central de Buenos Aires  2017  0.380   \n",
            "295       32  Argentina  Mercado Central de Buenos Aires  2017  0.456   \n",
            "338       32  Argentina  Mercado Central de Buenos Aires  2017  0.532   \n",
            "381       32  Argentina  Mercado Central de Buenos Aires  2017  0.608   \n",
            "424       32  Argentina  Mercado Central de Buenos Aires  2017  0.684   \n",
            "\n",
            "    producto variedad     origen  precio_usd_kg moneda_cod   moneda    añomes  \n",
            "37    Tomate   Cherry  Argentina           1.02        USD  Dolares  2017.000  \n",
            "80    Tomate   Cherry  Argentina           1.85        USD  Dolares  2017.076  \n",
            "123   Tomate   Cherry  Argentina           2.55        USD  Dolares  2017.152  \n",
            "166   Tomate   Cherry  Argentina           2.12        USD  Dolares  2017.228  \n",
            "209   Tomate   Cherry  Argentina           1.41        USD  Dolares  2017.304  \n",
            "252   Tomate   Cherry  Argentina           1.50        USD  Dolares  2017.380  \n",
            "295   Tomate   Cherry  Argentina           1.28        USD  Dolares  2017.456  \n",
            "338   Tomate   Cherry  Argentina           2.23        USD  Dolares  2017.532  \n",
            "381   Tomate   Cherry  Argentina           3.15        USD  Dolares  2017.608  \n",
            "424   Tomate   Cherry  Argentina           2.73        USD  Dolares  2017.684  \n",
            "     pais_id       pais                          mercado   año    mes  \\\n",
            "123       32  Argentina  Mercado Central de Buenos Aires  2017  0.152   \n",
            "166       32  Argentina  Mercado Central de Buenos Aires  2017  0.228   \n",
            "209       32  Argentina  Mercado Central de Buenos Aires  2017  0.304   \n",
            "252       32  Argentina  Mercado Central de Buenos Aires  2017  0.380   \n",
            "295       32  Argentina  Mercado Central de Buenos Aires  2017  0.456   \n",
            "338       32  Argentina  Mercado Central de Buenos Aires  2017  0.532   \n",
            "381       32  Argentina  Mercado Central de Buenos Aires  2017  0.608   \n",
            "424       32  Argentina  Mercado Central de Buenos Aires  2017  0.684   \n",
            "467       32  Argentina  Mercado Central de Buenos Aires  2017  0.760   \n",
            "510       32  Argentina  Mercado Central de Buenos Aires  2017  0.836   \n",
            "\n",
            "    producto variedad     origen  precio_usd_kg moneda_cod   moneda    añomes  \n",
            "123   Tomate   Cherry  Argentina           2.55        USD  Dolares  2017.152  \n",
            "166   Tomate   Cherry  Argentina           2.12        USD  Dolares  2017.228  \n",
            "209   Tomate   Cherry  Argentina           1.41        USD  Dolares  2017.304  \n",
            "252   Tomate   Cherry  Argentina           1.50        USD  Dolares  2017.380  \n",
            "295   Tomate   Cherry  Argentina           1.28        USD  Dolares  2017.456  \n",
            "338   Tomate   Cherry  Argentina           2.23        USD  Dolares  2017.532  \n",
            "381   Tomate   Cherry  Argentina           3.15        USD  Dolares  2017.608  \n",
            "424   Tomate   Cherry  Argentina           2.73        USD  Dolares  2017.684  \n",
            "467   Tomate   Cherry  Argentina           3.27        USD  Dolares  2017.760  \n",
            "510   Tomate   Cherry  Argentina            NaN        USD  Dolares  2017.836  \n"
          ]
        },
        {
          "output_type": "stream",
          "name": "stderr",
          "text": [
            "<ipython-input-13-e2726669ece0>:1: SettingWithCopyWarning: \n",
            "A value is trying to be set on a copy of a slice from a DataFrame.\n",
            "Try using .loc[row_indexer,col_indexer] = value instead\n",
            "\n",
            "See the caveats in the documentation: https://pandas.pydata.org/pandas-docs/stable/user_guide/indexing.html#returning-a-view-versus-a-copy\n",
            "  nuevo_df_tomate_cherry['mes'] = nuevo_df_tomate_cherry['mes'].map({'Enero': 0.0, 'Febrero': 0.076, 'Marzo': 0.152, 'Abril': 0.228, 'Mayo': 0.304, 'Junio': 0.38, 'Julio': 0.456, 'Agosto': 0.532,'Septiembre': 0.608, 'Octubre': 0.684, 'Noviembre': 0.76, 'Diciembre': 0.836})\n",
            "<ipython-input-13-e2726669ece0>:2: SettingWithCopyWarning: \n",
            "A value is trying to be set on a copy of a slice from a DataFrame.\n",
            "Try using .loc[row_indexer,col_indexer] = value instead\n",
            "\n",
            "See the caveats in the documentation: https://pandas.pydata.org/pandas-docs/stable/user_guide/indexing.html#returning-a-view-versus-a-copy\n",
            "  nuevo_df_tomate_cherry['añomes'] = (nuevo_df_tomate_cherry['año'] + nuevo_df_tomate_cherry['mes'])\n"
          ]
        }
      ]
    },
    {
      "cell_type": "code",
      "source": [
        "#Me marcaba un error porque habia un valor en 0\n",
        "nuevo_df_tomate_cherry = nuevo_df_tomate_cherry.dropna(subset=['precio_usd_kg'])"
      ],
      "metadata": {
        "id": "CDVcn2lILXju"
      },
      "execution_count": 14,
      "outputs": []
    },
    {
      "cell_type": "code",
      "source": [
        "import matplotlib.pyplot as plt\n",
        "import numpy as np\n",
        "from sklearn.linear_model import LinearRegression\n",
        "\n",
        "precio_tomate_cherry = nuevo_df_tomate_cherry['precio_usd_kg']\n",
        "añomes_tomate_cherry = nuevo_df_tomate_cherry['añomes']\n",
        "añomes_tomate_cherry_np = np.array(añomes_tomate_cherry)\n",
        "añomes_tomate_cherry_np = añomes_tomate_cherry_np.reshape(-1, 1)\n",
        "\n",
        "modelo = LinearRegression()\n",
        "modelo.fit(añomes_tomate_cherry_np, precio_tomate_cherry)\n",
        "\n",
        "nuevo_añomes_tomate_cherry = 2018.000  # Enero de 2018\n",
        "nuevo_añomes_tomate_cherry = np.array([[nuevo_añomes_tomate_cherry]])\n",
        "prediccion_precio_tomate_cherry = modelo.predict(nuevo_añomes_tomate_cherry)\n",
        "print(f\"Precio precio Tomate Cherry: u${precio_promedio:.2f}/kg\")"
      ],
      "metadata": {
        "colab": {
          "base_uri": "https://localhost:8080/"
        },
        "id": "__VHqfW6EBLg",
        "outputId": "5f338b81-cf14-4f11-c1c7-f821f40a23f2"
      },
      "execution_count": 157,
      "outputs": [
        {
          "output_type": "stream",
          "name": "stdout",
          "text": [
            "Precio precio Tomate Cherry: u$1.26/kg\n"
          ]
        }
      ]
    },
    {
      "cell_type": "code",
      "source": [
        "#MÉTRICAS: MSE\n",
        "from sklearn.metrics import mean_squared_error\n",
        "\n",
        "# Calcula la predicción para todo el conjunto de datos\n",
        "prediccion_tomate_cherry = modelo.predict(añomes_tomate_cherry_np) #pero no lo hago sobre la predicción\n",
        "#de los precios que hay en el df, no el nuevo\n",
        "\n",
        "# Calcula el error cuadrático medio\n",
        "mse = mean_squared_error(precio_tomate_cherry, prediccion_tomate_cherry)\n",
        "print(\"Error cuadrático medio:\", mse)"
      ],
      "metadata": {
        "colab": {
          "base_uri": "https://localhost:8080/"
        },
        "id": "dIQiLpXkPcgt",
        "outputId": "c68c7729-da32-4155-fd4c-fb981769e8bf"
      },
      "execution_count": 74,
      "outputs": [
        {
          "output_type": "stream",
          "name": "stdout",
          "text": [
            "Error cuadrático medio: 1.741590909090909\n"
          ]
        }
      ]
    },
    {
      "cell_type": "code",
      "source": [
        "#MÉTRICAS: Calculo el coeficiente de determinación (R cuadrado)\n",
        "r2 = r2_score(precio_tomate_cherry, prediccion_tomate_cherry)\n",
        "print(\"Coeficiente de determinación (R cuadrado):\", r2)"
      ],
      "metadata": {
        "colab": {
          "base_uri": "https://localhost:8080/"
        },
        "id": "gyMEAddOQZjG",
        "outputId": "e13b28ab-ed02-4bb4-d2c4-0aab2a7af357"
      },
      "execution_count": 76,
      "outputs": [
        {
          "output_type": "stream",
          "name": "stdout",
          "text": [
            "Coeficiente de determinación (R cuadrado): -2.288564053907279\n"
          ]
        }
      ]
    },
    {
      "cell_type": "code",
      "source": [
        "plt.scatter(añomes_tomate_cherry, precio_tomate_cherry, label=\"Datos reales\")\n",
        "plt.plot(añomes_tomate_cherry, modelo.predict(añomes_tomate_cherry_np), color= \"red\", label=\"Linea de regresión\")\n",
        "plt.legend()\n",
        "plt.xlabel(\"Año y mes\")\n",
        "plt.xticks(rotation=45)\n",
        "plt.ylabel(\"Precio usd/kg\")\n",
        "plt.title(\"Precio y año Tomate cherry\")\n",
        "plt.show"
      ],
      "metadata": {
        "colab": {
          "base_uri": "https://localhost:8080/",
          "height": 501
        },
        "id": "nnP-PA9b8MCr",
        "outputId": "cc3c8dde-f623-45d2-d009-5fdfe7161426"
      },
      "execution_count": 25,
      "outputs": [
        {
          "output_type": "execute_result",
          "data": {
            "text/plain": [
              "<function matplotlib.pyplot.show(close=None, block=None)>"
            ]
          },
          "metadata": {},
          "execution_count": 25
        },
        {
          "output_type": "display_data",
          "data": {
            "text/plain": [
              "<Figure size 640x480 with 1 Axes>"
            ],
            "image/png": "[encoded data removed]"
          },
          "metadata": {}
        }
      ]
    },
    {
      "cell_type": "code",
      "source": [
        "#REGRESIÓN LOGISTICA\n",
        "#Quiero saber cual es el precio más barato\n",
        "precio_mas_bajo = df_mercadocentral['precio_usd_kg'].min()\n",
        "precio_mas_alto = df_mercadocentral['precio_usd_kg'].max()\n",
        "precio_promedio = df_mercadocentral['precio_usd_kg'].mean()\n",
        "print(f\"Precio más bajo: u${precio_mas_bajo:.2f}\")\n",
        "print(f\"Precio más alto: u${precio_mas_alto:.2f}\")\n",
        "print(f\"Precio promedio: u${precio_promedio:.2f}\")"
      ],
      "metadata": {
        "colab": {
          "base_uri": "https://localhost:8080/"
        },
        "id": "Opd5cUD1v94J",
        "outputId": "a02a3e42-b50d-4f57-fbb2-d147c261a1ca"
      },
      "execution_count": 27,
      "outputs": [
        {
          "output_type": "stream",
          "name": "stdout",
          "text": [
            "Precio más bajo: u$0.00\n",
            "Precio más alto: u$11.23\n",
            "Precio promedio: u$1.26\n"
          ]
        }
      ]
    },
    {
      "cell_type": "code",
      "source": [
        "#Hay una celda con precio 0, la busco\n",
        "celdas_con_cero = df_mercadocentral.loc[df_mercadocentral['precio_usd_kg'] == 0]\n",
        "print(celdas_con_cero)"
      ],
      "metadata": {
        "colab": {
          "base_uri": "https://localhost:8080/"
        },
        "id": "zJF0CvOtyYuw",
        "outputId": "dabed12d-dbed-4d72-e0f6-4de630589124"
      },
      "execution_count": 28,
      "outputs": [
        {
          "output_type": "stream",
          "name": "stdout",
          "text": [
            "     pais_id       pais                          mercado   año      mes  \\\n",
            "573       32  Argentina  Mercado Central de Buenos Aires  2018  Febrero   \n",
            "\n",
            "    producto       variedad         origen  precio_usd_kg moneda_cod   moneda  \n",
            "573     Apio  s/especificar  s/especificar            0.0        USD  Dolares  \n"
          ]
        }
      ]
    },
    {
      "cell_type": "code",
      "source": [
        "df_mercadocentral = df_mercadocentral.drop(573)\n",
        "print(df_mercadocentral)"
      ],
      "metadata": {
        "colab": {
          "base_uri": "https://localhost:8080/"
        },
        "id": "62HMGGkbzLbg",
        "outputId": "2a8716fc-bdff-445b-b1a3-700a1ef175b7"
      },
      "execution_count": 29,
      "outputs": [
        {
          "output_type": "stream",
          "name": "stdout",
          "text": [
            "     pais_id       pais                          mercado   año     mes  \\\n",
            "0         32  Argentina  Mercado Central de Buenos Aires  2017   Enero   \n",
            "1         32  Argentina  Mercado Central de Buenos Aires  2017   Enero   \n",
            "2         32  Argentina  Mercado Central de Buenos Aires  2017   Enero   \n",
            "3         32  Argentina  Mercado Central de Buenos Aires  2017   Enero   \n",
            "4         32  Argentina  Mercado Central de Buenos Aires  2017   Enero   \n",
            "..       ...        ...                              ...   ...     ...   \n",
            "823       32  Argentina  Mercado Central de Buenos Aires  2018  Agosto   \n",
            "824       32  Argentina  Mercado Central de Buenos Aires  2018  Agosto   \n",
            "825       32  Argentina  Mercado Central de Buenos Aires  2018  Agosto   \n",
            "826       32  Argentina  Mercado Central de Buenos Aires  2018  Agosto   \n",
            "827       32  Argentina  Mercado Central de Buenos Aires  2018  Agosto   \n",
            "\n",
            "      producto       variedad         origen  precio_usd_kg moneda_cod  \\\n",
            "0        Anana         Perola         Brasil           1.22        USD   \n",
            "1       Banana        Cavdich        Ecuador           0.53        USD   \n",
            "2       Pomelo      Star Ruby      Argentina           0.86        USD   \n",
            "3        Limón         Eureka      Argentina           1.52        USD   \n",
            "4      Manzana   Granny Smith      Argentina           1.84        USD   \n",
            "..         ...            ...            ...            ...        ...   \n",
            "823    Repollo  s/especificar  s/especificar           0.36        USD   \n",
            "824     Tomate  s/especificar  s/especificar           1.15        USD   \n",
            "825  Zanahoria  s/especificar  s/especificar           0.29        USD   \n",
            "826  Zapallito  s/especificar  s/especificar           1.01        USD   \n",
            "827    Zapallo  s/especificar  s/especificar           0.32        USD   \n",
            "\n",
            "      moneda  \n",
            "0    Dolares  \n",
            "1    Dolares  \n",
            "2    Dolares  \n",
            "3    Dolares  \n",
            "4    Dolares  \n",
            "..       ...  \n",
            "823  Dolares  \n",
            "824  Dolares  \n",
            "825  Dolares  \n",
            "826  Dolares  \n",
            "827  Dolares  \n",
            "\n",
            "[827 rows x 11 columns]\n"
          ]
        }
      ]
    },
    {
      "cell_type": "code",
      "source": [
        "#Vuelvo a buscar si el hay un minimo 0\n",
        "precio_mas_bajo = df_mercadocentral['precio_usd_kg'].min()\n",
        "precio_mas_alto = df_mercadocentral['precio_usd_kg'].max()\n",
        "precio_promedio = df_mercadocentral['precio_usd_kg'].mean()\n",
        "print(f\"Precio más bajo: u${precio_mas_bajo:.2f}\")\n",
        "print(f\"Precio más alto: u${precio_mas_alto:.2f}\")\n",
        "print(f\"Precio promedio: u${precio_promedio:.2f}\")"
      ],
      "metadata": {
        "colab": {
          "base_uri": "https://localhost:8080/"
        },
        "id": "mPOAeCSJzeyI",
        "outputId": "565fbb2b-fc51-4d22-c8c7-99ba600436b6"
      },
      "execution_count": 30,
      "outputs": [
        {
          "output_type": "stream",
          "name": "stdout",
          "text": [
            "Precio más bajo: u$0.17\n",
            "Precio más alto: u$11.23\n",
            "Precio promedio: u$1.26\n"
          ]
        }
      ]
    },
    {
      "cell_type": "code",
      "source": [
        "#Quiero agregar una columna. Si el precio es menor al promedio es 0 = barato. Si es mayor es 1 = caro\n",
        "df_mercadocentral['barato_caro'] = df_mercadocentral.apply(lambda row: 1 if row['precio_usd_kg'] > precio_promedio else 0, axis=1)\n",
        "print(df_mercadocentral)"
      ],
      "metadata": {
        "id": "cWUcGypGzpeQ",
        "colab": {
          "base_uri": "https://localhost:8080/"
        },
        "outputId": "25bf4d03-970b-43f0-da0c-b316e5df8767"
      },
      "execution_count": 31,
      "outputs": [
        {
          "output_type": "stream",
          "name": "stdout",
          "text": [
            "     pais_id       pais                          mercado   año     mes  \\\n",
            "0         32  Argentina  Mercado Central de Buenos Aires  2017   Enero   \n",
            "1         32  Argentina  Mercado Central de Buenos Aires  2017   Enero   \n",
            "2         32  Argentina  Mercado Central de Buenos Aires  2017   Enero   \n",
            "3         32  Argentina  Mercado Central de Buenos Aires  2017   Enero   \n",
            "4         32  Argentina  Mercado Central de Buenos Aires  2017   Enero   \n",
            "..       ...        ...                              ...   ...     ...   \n",
            "823       32  Argentina  Mercado Central de Buenos Aires  2018  Agosto   \n",
            "824       32  Argentina  Mercado Central de Buenos Aires  2018  Agosto   \n",
            "825       32  Argentina  Mercado Central de Buenos Aires  2018  Agosto   \n",
            "826       32  Argentina  Mercado Central de Buenos Aires  2018  Agosto   \n",
            "827       32  Argentina  Mercado Central de Buenos Aires  2018  Agosto   \n",
            "\n",
            "      producto       variedad         origen  precio_usd_kg moneda_cod  \\\n",
            "0        Anana         Perola         Brasil           1.22        USD   \n",
            "1       Banana        Cavdich        Ecuador           0.53        USD   \n",
            "2       Pomelo      Star Ruby      Argentina           0.86        USD   \n",
            "3        Limón         Eureka      Argentina           1.52        USD   \n",
            "4      Manzana   Granny Smith      Argentina           1.84        USD   \n",
            "..         ...            ...            ...            ...        ...   \n",
            "823    Repollo  s/especificar  s/especificar           0.36        USD   \n",
            "824     Tomate  s/especificar  s/especificar           1.15        USD   \n",
            "825  Zanahoria  s/especificar  s/especificar           0.29        USD   \n",
            "826  Zapallito  s/especificar  s/especificar           1.01        USD   \n",
            "827    Zapallo  s/especificar  s/especificar           0.32        USD   \n",
            "\n",
            "      moneda  barato_caro  \n",
            "0    Dolares            0  \n",
            "1    Dolares            0  \n",
            "2    Dolares            0  \n",
            "3    Dolares            1  \n",
            "4    Dolares            1  \n",
            "..       ...          ...  \n",
            "823  Dolares            0  \n",
            "824  Dolares            0  \n",
            "825  Dolares            0  \n",
            "826  Dolares            0  \n",
            "827  Dolares            0  \n",
            "\n",
            "[827 rows x 12 columns]\n"
          ]
        }
      ]
    },
    {
      "cell_type": "code",
      "source": [
        "# Eliminar las filas que contienen NaN en el DataFrame\n",
        "df_mercadocentral = df_mercadocentral.dropna(subset=['precio_usd_kg', 'barato_caro'])"
      ],
      "metadata": {
        "id": "o0WB3GfRBVQf"
      },
      "execution_count": 39,
      "outputs": []
    },
    {
      "cell_type": "code",
      "source": [
        "import numpy as np\n",
        "import matplotlib.pyplot as plt\n",
        "from sklearn.linear_model import LogisticRegression\n",
        "\n",
        "#Datos\n",
        "precio_producto = df_mercadocentral['precio_usd_kg'].values\n",
        "barato_caro = df_mercadocentral['barato_caro'].values\n",
        "productos = df_mercadocentral['producto'].values\n",
        "\n",
        "#Creo modelo de Regresión Logistica\n",
        "modelo = LogisticRegression(solver=\"lbfgs\")\n",
        "\n",
        "#Entreno al modelo\n",
        "modelo.fit(precio_producto.reshape(-1,1), barato_caro)\n",
        "\n",
        "#Hago la prediccion\n",
        "es_barato_caro = float(input(\"Ingrese precio producto: $\"))\n",
        "prediccion_barato_caro = modelo.predict(np.array([es_barato_caro]).reshape(1, -1))\n",
        "\n",
        "#Imprimo la predicción\n",
        "print(f\"El modelo predice: {prediccion_barato_caro[0]}\")\n",
        "\n",
        "if prediccion_barato_caro == 0:\n",
        "    print(\"Es barato\")\n",
        "else:\n",
        "    print(\"Es caro\")\n",
        "\n",
        "#Precio que divide entre barato y caro\n",
        "print(f\"Precio promedio: u${precio_promedio:.2f}\")\n",
        "\n",
        "#Grafico\n",
        "plt.scatter(precio_producto, barato_caro, label=\"Datos Reales\")\n",
        "\n",
        "x_vals = np.linspace(np.min(precio_producto), np.max(precio_producto), 100).reshape(-1, 1)\n",
        "y_prob = modelo.predict_proba(x_vals)[:, 1]\n",
        "plt.plot(x_vals, y_prob, color='red', label='Frontera de Decisión')\n",
        "\n",
        "plt.scatter(precio_promedio, 0.5, color='green', marker='x', label=\"Precio Promedio\")\n",
        "\n",
        "plt.xlabel(\"Precio Producto\")\n",
        "plt.ylabel(\"0 = Barato, 1 = Caro\")\n",
        "plt.legend()\n",
        "plt.grid(True)\n",
        "plt.show()"
      ],
      "metadata": {
        "colab": {
          "base_uri": "https://localhost:8080/",
          "height": 523
        },
        "id": "G3vS7koPekO9",
        "outputId": "4650159b-9a74-4598-f3c7-3a599df1959b"
      },
      "execution_count": 164,
      "outputs": [
        {
          "output_type": "stream",
          "name": "stdout",
          "text": [
            "Ingrese precio producto: $0.1\n",
            "El modelo predice: 0\n",
            "Es barato\n",
            "Precio promedio: u$1.26\n"
          ]
        },
        {
          "output_type": "display_data",
          "data": {
            "text/plain": [
              "<Figure size 640x480 with 1 Axes>"
            ],
            "image/png": "[encoded data removed]"
          },
          "metadata": {}
        }
      ]
    },
    {
      "cell_type": "markdown",
      "source": [
        "##5- Aplicar alguna METRICAS de EVALUACION a los modelos anteriores y justificar la elección de dicha métrica."
      ],
      "metadata": {
        "id": "acd2_sj6z706"
      }
    },
    {
      "cell_type": "code",
      "source": [
        "#Apliqué métricas de evaluación para el caso de Regresión Lineal del precio del Tomate Cherry y me sale error.\n",
        "#Busco el error y me dice que es porque no coincide el largo de los arrays\n",
        "#Found input variables with inconsistent numbers of samples: [11, 1]\n",
        "\n",
        "print(len(precio_tomate_cherry))\n",
        "print(len(prediccion_precio_tomate_cherry))"
      ],
      "metadata": {
        "colab": {
          "base_uri": "https://localhost:8080/"
        },
        "id": "64cXYhxAr7IL",
        "outputId": "643f9f75-34f7-410d-c6c4-c3b1f0b33079"
      },
      "execution_count": 151,
      "outputs": [
        {
          "output_type": "stream",
          "name": "stdout",
          "text": [
            "11\n",
            "1\n"
          ]
        }
      ]
    },
    {
      "cell_type": "code",
      "source": [
        "#MÉTRICAS: Exactitud a Regresión Logistica\n",
        "#Mismo error\n",
        "\n",
        "accuracy = accuracy_score(precio_producto, prediccion_barato_caro)\n",
        "print(f\"Exactitud (Accuracy): {accuracy:.2f}\")"
      ],
      "metadata": {
        "colab": {
          "base_uri": "https://localhost:8080/",
          "height": 390
        },
        "id": "3ziK4xMgpZPz",
        "outputId": "90b9a3b0-e358-44a1-ea61-e70e3e88dd1f"
      },
      "execution_count": 162,
      "outputs": [
        {
          "output_type": "error",
          "ename": "ValueError",
          "evalue": "ignored",
          "traceback": [
            "\u001b[0;31m---------------------------------------------------------------------------\u001b[0m",
            "\u001b[0;31mValueError\u001b[0m                                Traceback (most recent call last)",
            "\u001b[0;32m<ipython-input-162-db760d990497>\u001b[0m in \u001b[0;36m<cell line: 3>\u001b[0;34m()\u001b[0m\n\u001b[1;32m      1\u001b[0m \u001b[0;31m#MÉTRICAS: Exactitud a Regresión Logistica\u001b[0m\u001b[0;34m\u001b[0m\u001b[0;34m\u001b[0m\u001b[0m\n\u001b[1;32m      2\u001b[0m \u001b[0;34m\u001b[0m\u001b[0m\n\u001b[0;32m----> 3\u001b[0;31m \u001b[0maccuracy\u001b[0m \u001b[0;34m=\u001b[0m \u001b[0maccuracy_score\u001b[0m\u001b[0;34m(\u001b[0m\u001b[0mprecio_producto\u001b[0m\u001b[0;34m,\u001b[0m \u001b[0mprediccion_barato_caro\u001b[0m\u001b[0;34m)\u001b[0m\u001b[0;34m\u001b[0m\u001b[0;34m\u001b[0m\u001b[0m\n\u001b[0m\u001b[1;32m      4\u001b[0m \u001b[0mprint\u001b[0m\u001b[0;34m(\u001b[0m\u001b[0;34mf\"Exactitud (Accuracy): {accuracy:.2f}\"\u001b[0m\u001b[0;34m)\u001b[0m\u001b[0;34m\u001b[0m\u001b[0;34m\u001b[0m\u001b[0m\n",
            "\u001b[0;32m/usr/local/lib/python3.10/dist-packages/sklearn/utils/_param_validation.py\u001b[0m in \u001b[0;36mwrapper\u001b[0;34m(*args, **kwargs)\u001b[0m\n\u001b[1;32m    190\u001b[0m \u001b[0;34m\u001b[0m\u001b[0m\n\u001b[1;32m    191\u001b[0m             \u001b[0;32mtry\u001b[0m\u001b[0;34m:\u001b[0m\u001b[0;34m\u001b[0m\u001b[0;34m\u001b[0m\u001b[0m\n\u001b[0;32m--> 192\u001b[0;31m                 \u001b[0;32mreturn\u001b[0m \u001b[0mfunc\u001b[0m\u001b[0;34m(\u001b[0m\u001b[0;34m*\u001b[0m\u001b[0margs\u001b[0m\u001b[0;34m,\u001b[0m \u001b[0;34m**\u001b[0m\u001b[0mkwargs\u001b[0m\u001b[0;34m)\u001b[0m\u001b[0;34m\u001b[0m\u001b[0;34m\u001b[0m\u001b[0m\n\u001b[0m\u001b[1;32m    193\u001b[0m             \u001b[0;32mexcept\u001b[0m \u001b[0mInvalidParameterError\u001b[0m \u001b[0;32mas\u001b[0m \u001b[0me\u001b[0m\u001b[0;34m:\u001b[0m\u001b[0;34m\u001b[0m\u001b[0;34m\u001b[0m\u001b[0m\n\u001b[1;32m    194\u001b[0m                 \u001b[0;31m# When the function is just a wrapper around an estimator, we allow\u001b[0m\u001b[0;34m\u001b[0m\u001b[0;34m\u001b[0m\u001b[0m\n",
            "\u001b[0;32m/usr/local/lib/python3.10/dist-packages/sklearn/metrics/_classification.py\u001b[0m in \u001b[0;36maccuracy_score\u001b[0;34m(y_true, y_pred, normalize, sample_weight)\u001b[0m\n\u001b[1;32m    219\u001b[0m \u001b[0;34m\u001b[0m\u001b[0m\n\u001b[1;32m    220\u001b[0m     \u001b[0;31m# Compute accuracy for each possible representation\u001b[0m\u001b[0;34m\u001b[0m\u001b[0;34m\u001b[0m\u001b[0m\n\u001b[0;32m--> 221\u001b[0;31m     \u001b[0my_type\u001b[0m\u001b[0;34m,\u001b[0m \u001b[0my_true\u001b[0m\u001b[0;34m,\u001b[0m \u001b[0my_pred\u001b[0m \u001b[0;34m=\u001b[0m \u001b[0m_check_targets\u001b[0m\u001b[0;34m(\u001b[0m\u001b[0my_true\u001b[0m\u001b[0;34m,\u001b[0m \u001b[0my_pred\u001b[0m\u001b[0;34m)\u001b[0m\u001b[0;34m\u001b[0m\u001b[0;34m\u001b[0m\u001b[0m\n\u001b[0m\u001b[1;32m    222\u001b[0m     \u001b[0mcheck_consistent_length\u001b[0m\u001b[0;34m(\u001b[0m\u001b[0my_true\u001b[0m\u001b[0;34m,\u001b[0m \u001b[0my_pred\u001b[0m\u001b[0;34m,\u001b[0m \u001b[0msample_weight\u001b[0m\u001b[0;34m)\u001b[0m\u001b[0;34m\u001b[0m\u001b[0;34m\u001b[0m\u001b[0m\n\u001b[1;32m    223\u001b[0m     \u001b[0;32mif\u001b[0m \u001b[0my_type\u001b[0m\u001b[0;34m.\u001b[0m\u001b[0mstartswith\u001b[0m\u001b[0;34m(\u001b[0m\u001b[0;34m\"multilabel\"\u001b[0m\u001b[0;34m)\u001b[0m\u001b[0;34m:\u001b[0m\u001b[0;34m\u001b[0m\u001b[0;34m\u001b[0m\u001b[0m\n",
            "\u001b[0;32m/usr/local/lib/python3.10/dist-packages/sklearn/metrics/_classification.py\u001b[0m in \u001b[0;36m_check_targets\u001b[0;34m(y_true, y_pred)\u001b[0m\n\u001b[1;32m     84\u001b[0m     \u001b[0my_pred\u001b[0m \u001b[0;34m:\u001b[0m \u001b[0marray\u001b[0m \u001b[0;32mor\u001b[0m \u001b[0mindicator\u001b[0m \u001b[0mmatrix\u001b[0m\u001b[0;34m\u001b[0m\u001b[0;34m\u001b[0m\u001b[0m\n\u001b[1;32m     85\u001b[0m     \"\"\"\n\u001b[0;32m---> 86\u001b[0;31m     \u001b[0mcheck_consistent_length\u001b[0m\u001b[0;34m(\u001b[0m\u001b[0my_true\u001b[0m\u001b[0;34m,\u001b[0m \u001b[0my_pred\u001b[0m\u001b[0;34m)\u001b[0m\u001b[0;34m\u001b[0m\u001b[0;34m\u001b[0m\u001b[0m\n\u001b[0m\u001b[1;32m     87\u001b[0m     \u001b[0mtype_true\u001b[0m \u001b[0;34m=\u001b[0m \u001b[0mtype_of_target\u001b[0m\u001b[0;34m(\u001b[0m\u001b[0my_true\u001b[0m\u001b[0;34m,\u001b[0m \u001b[0minput_name\u001b[0m\u001b[0;34m=\u001b[0m\u001b[0;34m\"y_true\"\u001b[0m\u001b[0;34m)\u001b[0m\u001b[0;34m\u001b[0m\u001b[0;34m\u001b[0m\u001b[0m\n\u001b[1;32m     88\u001b[0m     \u001b[0mtype_pred\u001b[0m \u001b[0;34m=\u001b[0m \u001b[0mtype_of_target\u001b[0m\u001b[0;34m(\u001b[0m\u001b[0my_pred\u001b[0m\u001b[0;34m,\u001b[0m \u001b[0minput_name\u001b[0m\u001b[0;34m=\u001b[0m\u001b[0;34m\"y_pred\"\u001b[0m\u001b[0;34m)\u001b[0m\u001b[0;34m\u001b[0m\u001b[0;34m\u001b[0m\u001b[0m\n",
            "\u001b[0;32m/usr/local/lib/python3.10/dist-packages/sklearn/utils/validation.py\u001b[0m in \u001b[0;36mcheck_consistent_length\u001b[0;34m(*arrays)\u001b[0m\n\u001b[1;32m    395\u001b[0m     \u001b[0muniques\u001b[0m \u001b[0;34m=\u001b[0m \u001b[0mnp\u001b[0m\u001b[0;34m.\u001b[0m\u001b[0munique\u001b[0m\u001b[0;34m(\u001b[0m\u001b[0mlengths\u001b[0m\u001b[0;34m)\u001b[0m\u001b[0;34m\u001b[0m\u001b[0;34m\u001b[0m\u001b[0m\n\u001b[1;32m    396\u001b[0m     \u001b[0;32mif\u001b[0m \u001b[0mlen\u001b[0m\u001b[0;34m(\u001b[0m\u001b[0muniques\u001b[0m\u001b[0;34m)\u001b[0m \u001b[0;34m>\u001b[0m \u001b[0;36m1\u001b[0m\u001b[0;34m:\u001b[0m\u001b[0;34m\u001b[0m\u001b[0;34m\u001b[0m\u001b[0m\n\u001b[0;32m--> 397\u001b[0;31m         raise ValueError(\n\u001b[0m\u001b[1;32m    398\u001b[0m             \u001b[0;34m\"Found input variables with inconsistent numbers of samples: %r\"\u001b[0m\u001b[0;34m\u001b[0m\u001b[0;34m\u001b[0m\u001b[0m\n\u001b[1;32m    399\u001b[0m             \u001b[0;34m%\u001b[0m \u001b[0;34m[\u001b[0m\u001b[0mint\u001b[0m\u001b[0;34m(\u001b[0m\u001b[0ml\u001b[0m\u001b[0;34m)\u001b[0m \u001b[0;32mfor\u001b[0m \u001b[0ml\u001b[0m \u001b[0;32min\u001b[0m \u001b[0mlengths\u001b[0m\u001b[0;34m]\u001b[0m\u001b[0;34m\u001b[0m\u001b[0;34m\u001b[0m\u001b[0m\n",
            "\u001b[0;31mValueError\u001b[0m: Found input variables with inconsistent numbers of samples: [766, 1]"
          ]
        }
      ]
    },
    {
      "cell_type": "code",
      "source": [
        "#Buscando una respuesta encuentro esto pero no llego a entenderlo:\n",
        "accuracy2 = modelo.score(precio_producto.reshape(-1,1), barato_caro)\n",
        "print(f\"Exactitud (Accuracy): {accuracy:.2f}\")"
      ],
      "metadata": {
        "colab": {
          "base_uri": "https://localhost:8080/"
        },
        "id": "Tr1922L4v-GU",
        "outputId": "2187efd9-3637-427c-d92a-ea0bc24f858d"
      },
      "execution_count": 163,
      "outputs": [
        {
          "output_type": "stream",
          "name": "stdout",
          "text": [
            "Exactitud (Accuracy): -73664875.89\n"
          ]
        }
      ]
    },
    {
      "cell_type": "markdown",
      "source": [
        "##6- Sacar una conclusión en función de los resultados, errores, y predicciones."
      ],
      "metadata": {
        "id": "eyul6-kk0Cgt"
      }
    },
    {
      "cell_type": "markdown",
      "source": [
        "***Regresión Lineal: Tomate Cherry.***\n",
        "\n",
        "Es interesante porque se puede predecir el precio del producto y tenerlo en cuenta en la toma de decisiones futuras.\n",
        "No lo llegué a hacer, pero también se puede llegar a analisar otras variables para tomar mejores decisiones. Como épocas del año y origen del producto."
      ],
      "metadata": {
        "id": "72rnIwiKwYus"
      }
    },
    {
      "cell_type": "markdown",
      "source": [
        "***Regresión Logistica: Precio producto - Barato/Caro***\n",
        "\n",
        "Al poder categorizar, uno puede poner un limite de precio por ejemplo, para decidir si comprar o no el producto.\n",
        "Y al graficarlo se puede ver facilmente lo que queda de un lado y otro de la Línea de Decisión.\n"
      ],
      "metadata": {
        "id": "0f1TOlUqw7Vt"
      }
    },
    {
      "cell_type": "markdown",
      "source": [
        "##7- Aplicar un MODELO DE APRENDIZAJE NO SUPERVISADO (k-means, arbol de  decisión, KNN) Con el resultado obtenido del algoritmo de agrupamiento elegido, agregar al dataset una columna con esta nueva variables del grupo al que pertenece cada dato.\n"
      ],
      "metadata": {
        "id": "xMm73P9l0G_V"
      }
    },
    {
      "cell_type": "code",
      "source": [
        "import numpy as np\n",
        "import matplotlib.pyplot as plt\n",
        "from sklearn.tree import DecisionTreeClassifier\n",
        "from sklearn.model_selection import train_test_split\n",
        "from sklearn.preprocessing import LabelEncoder\n",
        "import pandas as pd\n",
        "\n",
        "le = LabelEncoder()\n",
        "df_mercado_central_encoded = df_mercadocentral.apply(le.fit_transform)\n",
        "\n",
        "X = df_mercado_central_encoded.drop('precio_usd_kg', axis=1)\n",
        "y = df_mercado_central_encoded['precio_usd_kg']\n",
        "X_train, X_test, y_train, y_test = train_test_split(X, y, test_size=0.2, random_state=42)\n",
        "\n",
        "clf = DecisionTreeClassifier()\n",
        "clf.fit(X_train, y_train)\n",
        "\n",
        "accuracy = clf.score(X_test, y_test)\n",
        "print(f\"Precisión del árbol de decisión: {accuracy}\")\n"
      ],
      "metadata": {
        "id": "WZwplaoM0JFk",
        "colab": {
          "base_uri": "https://localhost:8080/"
        },
        "outputId": "65e523dd-96f9-48df-ee31-d59965597c06"
      },
      "execution_count": 92,
      "outputs": [
        {
          "output_type": "stream",
          "name": "stdout",
          "text": [
            "Precisión del árbol de decisión: 0.032467532467532464\n"
          ]
        }
      ]
    },
    {
      "cell_type": "code",
      "source": [
        "#Precisión del árbol de decisión baja, porque está cercana a 0."
      ],
      "metadata": {
        "id": "qjz-P5TtWtQB"
      },
      "execution_count": null,
      "outputs": []
    },
    {
      "cell_type": "markdown",
      "source": [
        "##8- Generar una conclusión con relación a como podría obtener mejores datos en este dataset, o que información considera importante que se podria evaluar para mejorar su predicción encontrada."
      ],
      "metadata": {
        "id": "HYoODPEl0Mnd"
      }
    },
    {
      "cell_type": "markdown",
      "source": [
        "En el caso del Tomate Cherry (Regresión Lineal), si tuviese más datos históricos podriamos saber como evoluciona su precio a lo largo del año (y los años) y ver cual es el mejor momento para comprar para hacer un producto en particular, como por ejemplo conserva de tomate.\n",
        "O hacer un analisis entre todas las variedades de tomates y ver cual es más barata o mantiene su precio continuo a lo largo del año.  \n",
        "\n",
        "\n",
        "En el caso de los Precio producto - Barato/Caro (Regresión Logística), podria separar por productos. Y si por ejemplo supieran cual es el precio máximo que pueden pagar un producto para tener ganancia, podriamos ponerlo como Línea de Decisión y ver clara y facilmente cuales son redituables y cuales no."
      ],
      "metadata": {
        "id": "qS6SRQKQzEwb"
      }
    }
  ]
}